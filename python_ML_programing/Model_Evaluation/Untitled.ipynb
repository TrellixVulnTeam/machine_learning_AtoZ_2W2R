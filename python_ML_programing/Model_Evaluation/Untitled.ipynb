{
 "cells": [
  {
   "cell_type": "markdown",
   "metadata": {},
   "source": [
    "## Ch06 モデル評価・検証をTitanic号のデータで練習する"
   ]
  },
  {
   "cell_type": "code",
   "execution_count": 179,
   "metadata": {},
   "outputs": [],
   "source": [
    "import numpy as np\n",
    "import matplotlib.pyplot as plt\n",
    "import pandas as pd\n",
    "import seaborn as sns\n",
    "from IPython.display import Image\n",
    "%matplotlib inline\n",
    "custom_style = {'axes.labelcolor': 'white',\n",
    "                'xtick.color': 'white',\n",
    "                'ytick.color': 'white'}\n",
    "sns.set_style(\"darkgrid\", rc=custom_style)\n",
    "sns.set_context(\"notebook\")\n",
    "plt.style.use('dark_background')"
   ]
  },
  {
   "cell_type": "code",
   "execution_count": 180,
   "metadata": {},
   "outputs": [],
   "source": [
    "from sklearn.preprocessing import StandardScaler\n",
    "from sklearn.decomposition import PCA\n",
    "from sklearn.linear_model import LogisticRegression\n",
    "from sklearn.pipeline import make_pipeline"
   ]
  },
  {
   "cell_type": "code",
   "execution_count": 181,
   "metadata": {},
   "outputs": [],
   "source": [
    "def get_unique(df,name):\n",
    "    print('%s: %s'%(name, pd.unique(df[name])))"
   ]
  },
  {
   "cell_type": "code",
   "execution_count": 182,
   "metadata": {},
   "outputs": [],
   "source": [
    "def get_dummy(df, keys):\n",
    "    for key in keys:\n",
    "        dummy = pd.get_dummies(df[key]).astype(np.int64)\n",
    "        print(\"remove %s from %s\"%(dummy.columns[0], key))\n",
    "        dummy.columns = [key + '_' + i for i in dummy.columns]\n",
    "        df = df.drop(key,axis=1)\n",
    "        df = pd.concat([df, dummy.iloc[:,1:]], axis=1)\n",
    "    return df"
   ]
  },
  {
   "cell_type": "code",
   "execution_count": 183,
   "metadata": {},
   "outputs": [],
   "source": [
    "# df = sns.load_dataset('titanic')\n",
    "df = pd.read_csv('./train.csv')\n",
    "df_test = pd.read_csv('./test.csv')"
   ]
  },
  {
   "cell_type": "code",
   "execution_count": 184,
   "metadata": {},
   "outputs": [
    {
     "data": {
      "text/html": [
       "<div>\n",
       "<style scoped>\n",
       "    .dataframe tbody tr th:only-of-type {\n",
       "        vertical-align: middle;\n",
       "    }\n",
       "\n",
       "    .dataframe tbody tr th {\n",
       "        vertical-align: top;\n",
       "    }\n",
       "\n",
       "    .dataframe thead th {\n",
       "        text-align: right;\n",
       "    }\n",
       "</style>\n",
       "<table border=\"1\" class=\"dataframe\">\n",
       "  <thead>\n",
       "    <tr style=\"text-align: right;\">\n",
       "      <th></th>\n",
       "      <th>PassengerId</th>\n",
       "      <th>Pclass</th>\n",
       "      <th>Name</th>\n",
       "      <th>Sex</th>\n",
       "      <th>Age</th>\n",
       "      <th>SibSp</th>\n",
       "      <th>Parch</th>\n",
       "      <th>Ticket</th>\n",
       "      <th>Fare</th>\n",
       "      <th>Cabin</th>\n",
       "      <th>Embarked</th>\n",
       "    </tr>\n",
       "  </thead>\n",
       "  <tbody>\n",
       "    <tr>\n",
       "      <th>0</th>\n",
       "      <td>892</td>\n",
       "      <td>3</td>\n",
       "      <td>Kelly, Mr. James</td>\n",
       "      <td>male</td>\n",
       "      <td>34.5</td>\n",
       "      <td>0</td>\n",
       "      <td>0</td>\n",
       "      <td>330911</td>\n",
       "      <td>7.8292</td>\n",
       "      <td>NaN</td>\n",
       "      <td>Q</td>\n",
       "    </tr>\n",
       "    <tr>\n",
       "      <th>1</th>\n",
       "      <td>893</td>\n",
       "      <td>3</td>\n",
       "      <td>Wilkes, Mrs. James (Ellen Needs)</td>\n",
       "      <td>female</td>\n",
       "      <td>47.0</td>\n",
       "      <td>1</td>\n",
       "      <td>0</td>\n",
       "      <td>363272</td>\n",
       "      <td>7.0000</td>\n",
       "      <td>NaN</td>\n",
       "      <td>S</td>\n",
       "    </tr>\n",
       "    <tr>\n",
       "      <th>2</th>\n",
       "      <td>894</td>\n",
       "      <td>2</td>\n",
       "      <td>Myles, Mr. Thomas Francis</td>\n",
       "      <td>male</td>\n",
       "      <td>62.0</td>\n",
       "      <td>0</td>\n",
       "      <td>0</td>\n",
       "      <td>240276</td>\n",
       "      <td>9.6875</td>\n",
       "      <td>NaN</td>\n",
       "      <td>Q</td>\n",
       "    </tr>\n",
       "    <tr>\n",
       "      <th>3</th>\n",
       "      <td>895</td>\n",
       "      <td>3</td>\n",
       "      <td>Wirz, Mr. Albert</td>\n",
       "      <td>male</td>\n",
       "      <td>27.0</td>\n",
       "      <td>0</td>\n",
       "      <td>0</td>\n",
       "      <td>315154</td>\n",
       "      <td>8.6625</td>\n",
       "      <td>NaN</td>\n",
       "      <td>S</td>\n",
       "    </tr>\n",
       "    <tr>\n",
       "      <th>4</th>\n",
       "      <td>896</td>\n",
       "      <td>3</td>\n",
       "      <td>Hirvonen, Mrs. Alexander (Helga E Lindqvist)</td>\n",
       "      <td>female</td>\n",
       "      <td>22.0</td>\n",
       "      <td>1</td>\n",
       "      <td>1</td>\n",
       "      <td>3101298</td>\n",
       "      <td>12.2875</td>\n",
       "      <td>NaN</td>\n",
       "      <td>S</td>\n",
       "    </tr>\n",
       "  </tbody>\n",
       "</table>\n",
       "</div>"
      ],
      "text/plain": [
       "   PassengerId  Pclass                                          Name     Sex  \\\n",
       "0          892       3                              Kelly, Mr. James    male   \n",
       "1          893       3              Wilkes, Mrs. James (Ellen Needs)  female   \n",
       "2          894       2                     Myles, Mr. Thomas Francis    male   \n",
       "3          895       3                              Wirz, Mr. Albert    male   \n",
       "4          896       3  Hirvonen, Mrs. Alexander (Helga E Lindqvist)  female   \n",
       "\n",
       "    Age  SibSp  Parch   Ticket     Fare Cabin Embarked  \n",
       "0  34.5      0      0   330911   7.8292   NaN        Q  \n",
       "1  47.0      1      0   363272   7.0000   NaN        S  \n",
       "2  62.0      0      0   240276   9.6875   NaN        Q  \n",
       "3  27.0      0      0   315154   8.6625   NaN        S  \n",
       "4  22.0      1      1  3101298  12.2875   NaN        S  "
      ]
     },
     "execution_count": 184,
     "metadata": {},
     "output_type": "execute_result"
    }
   ],
   "source": [
    "df_test.head()"
   ]
  },
  {
   "cell_type": "code",
   "execution_count": 185,
   "metadata": {},
   "outputs": [
    {
     "data": {
      "text/plain": [
       "array([678, 118,  80,   5,   4,   5,   1])"
      ]
     },
     "execution_count": 185,
     "metadata": {},
     "output_type": "execute_result"
    }
   ],
   "source": [
    "np.bincount(df['Parch'])"
   ]
  },
  {
   "cell_type": "code",
   "execution_count": 186,
   "metadata": {},
   "outputs": [
    {
     "data": {
      "text/html": [
       "<div>\n",
       "<style scoped>\n",
       "    .dataframe tbody tr th:only-of-type {\n",
       "        vertical-align: middle;\n",
       "    }\n",
       "\n",
       "    .dataframe tbody tr th {\n",
       "        vertical-align: top;\n",
       "    }\n",
       "\n",
       "    .dataframe thead th {\n",
       "        text-align: right;\n",
       "    }\n",
       "</style>\n",
       "<table border=\"1\" class=\"dataframe\">\n",
       "  <thead>\n",
       "    <tr style=\"text-align: right;\">\n",
       "      <th></th>\n",
       "      <th>PassengerId</th>\n",
       "      <th>Survived</th>\n",
       "      <th>Pclass</th>\n",
       "      <th>Name</th>\n",
       "      <th>Sex</th>\n",
       "      <th>Age</th>\n",
       "      <th>SibSp</th>\n",
       "      <th>Parch</th>\n",
       "      <th>Ticket</th>\n",
       "      <th>Fare</th>\n",
       "      <th>Cabin</th>\n",
       "      <th>Embarked</th>\n",
       "    </tr>\n",
       "  </thead>\n",
       "  <tbody>\n",
       "    <tr>\n",
       "      <th>0</th>\n",
       "      <td>1</td>\n",
       "      <td>0</td>\n",
       "      <td>3</td>\n",
       "      <td>Braund, Mr. Owen Harris</td>\n",
       "      <td>male</td>\n",
       "      <td>22.0</td>\n",
       "      <td>1</td>\n",
       "      <td>0</td>\n",
       "      <td>A/5 21171</td>\n",
       "      <td>7.2500</td>\n",
       "      <td>NaN</td>\n",
       "      <td>S</td>\n",
       "    </tr>\n",
       "    <tr>\n",
       "      <th>1</th>\n",
       "      <td>2</td>\n",
       "      <td>1</td>\n",
       "      <td>1</td>\n",
       "      <td>Cumings, Mrs. John Bradley (Florence Briggs Th...</td>\n",
       "      <td>female</td>\n",
       "      <td>38.0</td>\n",
       "      <td>1</td>\n",
       "      <td>0</td>\n",
       "      <td>PC 17599</td>\n",
       "      <td>71.2833</td>\n",
       "      <td>C85</td>\n",
       "      <td>C</td>\n",
       "    </tr>\n",
       "    <tr>\n",
       "      <th>2</th>\n",
       "      <td>3</td>\n",
       "      <td>1</td>\n",
       "      <td>3</td>\n",
       "      <td>Heikkinen, Miss. Laina</td>\n",
       "      <td>female</td>\n",
       "      <td>26.0</td>\n",
       "      <td>0</td>\n",
       "      <td>0</td>\n",
       "      <td>STON/O2. 3101282</td>\n",
       "      <td>7.9250</td>\n",
       "      <td>NaN</td>\n",
       "      <td>S</td>\n",
       "    </tr>\n",
       "    <tr>\n",
       "      <th>3</th>\n",
       "      <td>4</td>\n",
       "      <td>1</td>\n",
       "      <td>1</td>\n",
       "      <td>Futrelle, Mrs. Jacques Heath (Lily May Peel)</td>\n",
       "      <td>female</td>\n",
       "      <td>35.0</td>\n",
       "      <td>1</td>\n",
       "      <td>0</td>\n",
       "      <td>113803</td>\n",
       "      <td>53.1000</td>\n",
       "      <td>C123</td>\n",
       "      <td>S</td>\n",
       "    </tr>\n",
       "    <tr>\n",
       "      <th>4</th>\n",
       "      <td>5</td>\n",
       "      <td>0</td>\n",
       "      <td>3</td>\n",
       "      <td>Allen, Mr. William Henry</td>\n",
       "      <td>male</td>\n",
       "      <td>35.0</td>\n",
       "      <td>0</td>\n",
       "      <td>0</td>\n",
       "      <td>373450</td>\n",
       "      <td>8.0500</td>\n",
       "      <td>NaN</td>\n",
       "      <td>S</td>\n",
       "    </tr>\n",
       "  </tbody>\n",
       "</table>\n",
       "</div>"
      ],
      "text/plain": [
       "   PassengerId  Survived  Pclass  \\\n",
       "0            1         0       3   \n",
       "1            2         1       1   \n",
       "2            3         1       3   \n",
       "3            4         1       1   \n",
       "4            5         0       3   \n",
       "\n",
       "                                                Name     Sex   Age  SibSp  \\\n",
       "0                            Braund, Mr. Owen Harris    male  22.0      1   \n",
       "1  Cumings, Mrs. John Bradley (Florence Briggs Th...  female  38.0      1   \n",
       "2                             Heikkinen, Miss. Laina  female  26.0      0   \n",
       "3       Futrelle, Mrs. Jacques Heath (Lily May Peel)  female  35.0      1   \n",
       "4                           Allen, Mr. William Henry    male  35.0      0   \n",
       "\n",
       "   Parch            Ticket     Fare Cabin Embarked  \n",
       "0      0         A/5 21171   7.2500   NaN        S  \n",
       "1      0          PC 17599  71.2833   C85        C  \n",
       "2      0  STON/O2. 3101282   7.9250   NaN        S  \n",
       "3      0            113803  53.1000  C123        S  \n",
       "4      0            373450   8.0500   NaN        S  "
      ]
     },
     "execution_count": 186,
     "metadata": {},
     "output_type": "execute_result"
    }
   ],
   "source": [
    "df.head()"
   ]
  },
  {
   "cell_type": "code",
   "execution_count": 187,
   "metadata": {},
   "outputs": [],
   "source": [
    "def male_female_child(passenger):\n",
    "    # 年齢と性別のデータを取得します。\n",
    "    age,sex = passenger\n",
    "    # 年齢を調べて16歳未満なら、子供。それ以外は性別をそのまま返します。\n",
    "    if age < 16:\n",
    "        return 'child'\n",
    "    else:\n",
    "        return 'adult'\n",
    "    \n",
    "# personという新しい列を追加します。\n",
    "df['person'] = df[['Age','Sex']].apply(male_female_child,axis=1)\n",
    "df_test['person'] = df_test[['Age','Sex']].apply(male_female_child,axis=1)"
   ]
  },
  {
   "cell_type": "code",
   "execution_count": 188,
   "metadata": {},
   "outputs": [],
   "source": [
    "df = df.drop(['Cabin','Ticket', 'Name'], axis=1)\n",
    "df_test = df_test.drop(['Cabin','Ticket', 'Name'], axis=1)"
   ]
  },
  {
   "cell_type": "code",
   "execution_count": 189,
   "metadata": {},
   "outputs": [],
   "source": [
    "df['Age'] = df['Age'].fillna(value=np.average(df['Age'].dropna()))\n",
    "df_test['Age'] = df_test['Age'].fillna(value=np.average(df['Age'].dropna()))"
   ]
  },
  {
   "cell_type": "code",
   "execution_count": 190,
   "metadata": {},
   "outputs": [],
   "source": [
    "df['Embarked'] = df['Embarked'].fillna(value='S')\n",
    "df_test['Embarked'] = df_test['Embarked'].fillna(value='S')"
   ]
  },
  {
   "cell_type": "code",
   "execution_count": 191,
   "metadata": {},
   "outputs": [],
   "source": [
    "df_test['Fare'] = df_test['Fare'].fillna(value=np.average(df['Fare']))"
   ]
  },
  {
   "cell_type": "code",
   "execution_count": 192,
   "metadata": {},
   "outputs": [
    {
     "name": "stdout",
     "output_type": "stream",
     "text": [
      "<class 'pandas.core.frame.DataFrame'>\n",
      "RangeIndex: 418 entries, 0 to 417\n",
      "Data columns (total 9 columns):\n",
      "PassengerId    418 non-null int64\n",
      "Pclass         418 non-null int64\n",
      "Sex            418 non-null object\n",
      "Age            418 non-null float64\n",
      "SibSp          418 non-null int64\n",
      "Parch          418 non-null int64\n",
      "Fare           418 non-null float64\n",
      "Embarked       418 non-null object\n",
      "person         418 non-null object\n",
      "dtypes: float64(2), int64(4), object(3)\n",
      "memory usage: 29.5+ KB\n"
     ]
    }
   ],
   "source": [
    "df_test.info()"
   ]
  },
  {
   "cell_type": "code",
   "execution_count": 193,
   "metadata": {},
   "outputs": [
    {
     "name": "stdout",
     "output_type": "stream",
     "text": [
      "Sex: ['male' 'female']\n",
      "Embarked: ['S' 'C' 'Q']\n",
      "person: ['adult' 'child']\n"
     ]
    }
   ],
   "source": [
    "get_unique(df, 'Sex')\n",
    "get_unique(df, 'Embarked')\n",
    "get_unique(df, 'person')"
   ]
  },
  {
   "cell_type": "code",
   "execution_count": 194,
   "metadata": {},
   "outputs": [
    {
     "name": "stdout",
     "output_type": "stream",
     "text": [
      "remove female from Sex\n",
      "remove C from Embarked\n",
      "remove adult from person\n",
      "remove female from Sex\n",
      "remove C from Embarked\n",
      "remove adult from person\n"
     ]
    }
   ],
   "source": [
    "keys = ['Sex', 'Embarked', 'person']\n",
    "df_dummy = get_dummy(df, keys)\n",
    "df_test_dummy= get_dummy(df_test, keys)"
   ]
  },
  {
   "cell_type": "code",
   "execution_count": 195,
   "metadata": {},
   "outputs": [],
   "source": [
    "# df_dummy['alone'] = df_cp['alone'].map({True: 1, False: 0})\n",
    "# df_cp['adult_male'] = df_cp['adult_male'].map({True: 1, False: 0})"
   ]
  },
  {
   "cell_type": "code",
   "execution_count": 196,
   "metadata": {},
   "outputs": [],
   "source": [
    "# df_cp['class'] = df_cp['class'].map({'First': 1, 'Second': 2, 'Third': 3})"
   ]
  },
  {
   "cell_type": "code",
   "execution_count": 197,
   "metadata": {},
   "outputs": [],
   "source": [
    "# df_cp = df_cp.drop('alive', axis=1)\n",
    "# df_cp = df_cp.drop('pclass', axis=1)"
   ]
  },
  {
   "cell_type": "code",
   "execution_count": 198,
   "metadata": {},
   "outputs": [],
   "source": [
    "# df_cp['age'] = df_cp['age'].fillna(value=np.average(df_cp['age'].dropna()))"
   ]
  },
  {
   "cell_type": "code",
   "execution_count": 199,
   "metadata": {},
   "outputs": [
    {
     "name": "stdout",
     "output_type": "stream",
     "text": [
      "Index(['PassengerId', 'Survived', 'Pclass', 'Sex', 'Age', 'SibSp', 'Parch',\n",
      "       'Fare', 'Embarked', 'person'],\n",
      "      dtype='object')\n",
      "Index(['PassengerId', 'Pclass', 'Sex', 'Age', 'SibSp', 'Parch', 'Fare',\n",
      "       'Embarked', 'person'],\n",
      "      dtype='object')\n"
     ]
    }
   ],
   "source": [
    "print(df.columns)\n",
    "print(df_test.columns)"
   ]
  },
  {
   "cell_type": "code",
   "execution_count": 200,
   "metadata": {},
   "outputs": [],
   "source": [
    "# values指定を忘れるとSeriesとして保管され、あとのsklearnの処理がうまくいかない\n",
    "X_train = df_dummy.iloc[:,2:].values\n",
    "y_train = df_dummy.iloc[:,1].values"
   ]
  },
  {
   "cell_type": "code",
   "execution_count": 206,
   "metadata": {},
   "outputs": [],
   "source": [
    "X_test = df_test_dummy.iloc[:,1:].values\n",
    "# y_test = df_test_dummy.iloc[:,1].values"
   ]
  },
  {
   "cell_type": "code",
   "execution_count": 202,
   "metadata": {},
   "outputs": [
    {
     "data": {
      "text/plain": [
       "(418,)"
      ]
     },
     "execution_count": 202,
     "metadata": {},
     "output_type": "execute_result"
    }
   ],
   "source": [
    "y_test.shape"
   ]
  },
  {
   "cell_type": "code",
   "execution_count": 14,
   "metadata": {},
   "outputs": [],
   "source": [
    "# train とtestにsplit\n",
    "# from sklearn.model_selection import train_test_split\n",
    "# X_train, X_test, y_train, y_test = train_test_split(X, y, test_size=0.2, random_state=1, stratify=y)"
   ]
  },
  {
   "cell_type": "code",
   "execution_count": 141,
   "metadata": {},
   "outputs": [
    {
     "data": {
      "text/plain": [
       "Pipeline(memory=None,\n",
       "     steps=[('standardscaler', StandardScaler(copy=True, with_mean=True, with_std=True)), ('logisticregression', LogisticRegression(C=1.0, class_weight=None, dual=False, fit_intercept=True,\n",
       "          intercept_scaling=1, max_iter=100, multi_class='ovr', n_jobs=1,\n",
       "          penalty='l2', random_state=1, solver='liblinear', tol=0.0001,\n",
       "          verbose=0, warm_start=False))])"
      ]
     },
     "execution_count": 141,
     "metadata": {},
     "output_type": "execute_result"
    }
   ],
   "source": [
    "# パイプライン\n",
    "pipe_lr = make_pipeline(StandardScaler(),\n",
    "                       LogisticRegression(random_state=1))\n",
    "pipe_lr.fit(X_train, y_train)\n",
    "# pipe_lr.score(X_test,y_test)"
   ]
  },
  {
   "cell_type": "code",
   "execution_count": 142,
   "metadata": {},
   "outputs": [
    {
     "name": "stdout",
     "output_type": "stream",
     "text": [
      "Fold:  1, Class dist.: [494 307], Acc: 0.800\n",
      "Fold:  2, Class dist.: [494 307], Acc: 0.800\n",
      "Fold:  3, Class dist.: [494 308], Acc: 0.787\n",
      "Fold:  4, Class dist.: [494 308], Acc: 0.843\n",
      "Fold:  5, Class dist.: [494 308], Acc: 0.809\n",
      "Fold:  6, Class dist.: [494 308], Acc: 0.775\n",
      "Fold:  7, Class dist.: [494 308], Acc: 0.787\n",
      "Fold:  8, Class dist.: [494 308], Acc: 0.798\n",
      "Fold:  9, Class dist.: [494 308], Acc: 0.831\n",
      "Fold: 10, Class dist.: [495 308], Acc: 0.852\n"
     ]
    }
   ],
   "source": [
    "# 層化k分割交差検証\n",
    "from sklearn.model_selection import StratifiedKFold\n",
    "sf = StratifiedKFold(n_splits=10, random_state=1)\n",
    "kfold = sf.split(X_train, y_train)\n",
    "trains = []\n",
    "scores = []\n",
    "for k, (train, test) in enumerate(kfold):\n",
    "    pipe_lr.fit(X_train[train], y_train[train])\n",
    "    score = pipe_lr.score(X_train[test], y_train[test])\n",
    "    scores.append(score)\n",
    "    print('Fold: %2d, Class dist.: %s, Acc: %.3f'%(k+1, np.bincount(y_train[train]), score))\n",
    "    trains.append(train)"
   ]
  },
  {
   "cell_type": "code",
   "execution_count": 143,
   "metadata": {},
   "outputs": [
    {
     "name": "stdout",
     "output_type": "stream",
     "text": [
      "average score: 0.808149\n"
     ]
    }
   ],
   "source": [
    "print('average score: %f'%(np.average(scores)))"
   ]
  },
  {
   "cell_type": "code",
   "execution_count": 144,
   "metadata": {},
   "outputs": [
    {
     "data": {
      "text/plain": [
       "(0.6, 1.0)"
      ]
     },
     "execution_count": 144,
     "metadata": {},
     "output_type": "execute_result"
    },
    {
     "data": {
      "image/png": "[encoded data removed]",
      "text/plain": [
       "<Figure size 1000x500 with 1 Axes>"
      ]
     },
     "metadata": {},
     "output_type": "display_data"
    }
   ],
   "source": [
    "# 学習曲線\n",
    "from sklearn.model_selection import learning_curve\n",
    "train_sizes, train_scores, test_scores = learning_curve(estimator=pipe_lr,\n",
    "                                                      X=X_train, y=y_train,\n",
    "                                                      train_sizes=np.linspace(0.1,1.0,10 ),\n",
    "                                                      cv = 10, n_jobs = 1)\n",
    "train_mean = np.mean(train_scores, axis = 1)\n",
    "train_std = np.std(train_scores, axis=1)\n",
    "test_mean = np.mean(test_scores, axis = 1)\n",
    "test_std = np.std(test_scores, axis=1)\n",
    "fig = plt.figure(figsize=(10,5), dpi=100)\n",
    "plt.plot(train_sizes, train_mean, color='yellowgreen', \n",
    "         marker='o', markersize=10, label='training accuracy')\n",
    "plt.fill_between(train_sizes, train_mean + train_std, train_mean - train_std,\n",
    "                alpha = 0.15, color='yellow')\n",
    "plt.plot(train_sizes, test_mean, color='deepskyblue',\n",
    "        marker='o', markersize=10, label='validation accuracy')\n",
    "plt.fill_between(train_sizes, test_mean + test_std, test_mean - test_std,\n",
    "                alpha = 0.3, color='blue')\n",
    "plt.xlabel('Number of training samples')\n",
    "plt.ylabel('Accuracy')\n",
    "plt.legend(loc='upper right', frameon=True)\n",
    "plt.ylim([0.6, 1.0])"
   ]
  },
  {
   "cell_type": "code",
   "execution_count": 145,
   "metadata": {},
   "outputs": [
    {
     "name": "stdout",
     "output_type": "stream",
     "text": [
      "[0.0001, 0.001, 0.01, 0.1, 1, 10, 100, 1000]\n"
     ]
    },
    {
     "data": {
      "text/plain": [
       "(0.6, 1.0)"
      ]
     },
     "execution_count": 145,
     "metadata": {},
     "output_type": "execute_result"
    },
    {
     "data": {
      "image/png": "[encoded data removed]",
      "text/plain": [
       "<Figure size 1000x500 with 1 Axes>"
      ]
     },
     "metadata": {},
     "output_type": "display_data"
    }
   ],
   "source": [
    "#検証曲線\n",
    "from sklearn.model_selection import validation_curve\n",
    "params = [10**(-4+i) for i in range(8)]\n",
    "print(params)\n",
    "train_scores, test_scores = validation_curve(estimator=pipe_lr,X=X_train, y=y_train,cv = 10,\n",
    "                                             param_name='logisticregression__C',\n",
    "                                             param_range=params)\n",
    "train_mean = np.mean(train_scores, axis = 1)\n",
    "train_std = np.std(train_scores, axis=1)\n",
    "test_mean = np.mean(test_scores, axis = 1)\n",
    "test_std = np.std(test_scores, axis=1)\n",
    "fig = plt.figure(figsize=(10,5), dpi=100)\n",
    "plt.plot(params, train_mean, color='yellowgreen', \n",
    "         marker='o', markersize=10, label='training accuracy')\n",
    "plt.fill_between(params, train_mean + train_std, train_mean - train_std,\n",
    "                alpha = 0.15, color='yellow')\n",
    "plt.plot(params, test_mean, color='deepskyblue',\n",
    "        marker='o', markersize=10, label='validation accuracy')\n",
    "plt.fill_between(params, test_mean + test_std, test_mean - test_std,\n",
    "                alpha = 0.3, color='blue')\n",
    "plt.xlabel('Parameter C')\n",
    "plt.ylabel('Accuracy')\n",
    "plt.legend(loc='lower right', frameon=True)\n",
    "plt.xscale('log')\n",
    "plt.ylim([0.6, 1.0])"
   ]
  },
  {
   "cell_type": "code",
   "execution_count": 146,
   "metadata": {},
   "outputs": [
    {
     "name": "stdout",
     "output_type": "stream",
     "text": [
      "{'logisticregression__C': 10}\n",
      "0.8092031425364759\n"
     ]
    }
   ],
   "source": [
    "### GridSearchを用いる\n",
    "from sklearn.model_selection import GridSearchCV\n",
    "params = [10**(-4+i) for i in range(8)]\n",
    "param_grid = [{'logisticregression__C': params}]\n",
    "gs = GridSearchCV(estimator=pipe_lr,param_grid=param_grid,\n",
    "                 scoring='accuracy', cv=10, n_jobs=-1)\n",
    "gs = gs.fit(X_train, y_train)\n",
    "print(gs.best_params_)\n",
    "print(gs.best_score_)"
   ]
  },
  {
   "cell_type": "code",
   "execution_count": 154,
   "metadata": {},
   "outputs": [],
   "source": [
    "### SVM を試してみる\n",
    "from sklearn.svm import SVC\n",
    "pipe_svc = make_pipeline(StandardScaler(), SVC(random_state=1,verbose=10))\n",
    "params = [10**(-4+i) for i in range(6)]\n",
    "param_grid = [{'svc__C': params, 'svc__kernel': ['linear']},\n",
    "             {'svc__C': params, 'svc__gamma': params, 'svc__kernel': ['rbf']}]\n",
    "gs = GridSearchCV(estimator=pipe_svc,param_grid=param_grid,\n",
    "                 scoring='accuracy', cv=10, n_jobs=4,verbose=10)"
   ]
  },
  {
   "cell_type": "code",
   "execution_count": 155,
   "metadata": {
    "scrolled": true
   },
   "outputs": [
    {
     "name": "stdout",
     "output_type": "stream",
     "text": [
      "Fitting 10 folds for each of 42 candidates, totalling 420 fits\n",
      "[CV] svc__C=0.0001, svc__kernel=linear ...............................\n",
      "[CV] svc__C=0.0001, svc__kernel=linear ...............................\n",
      "[CV] svc__C=0.0001, svc__kernel=linear ...............................\n",
      "[CV] svc__C=0.0001, svc__kernel=linear ...............................\n",
      "[LibSVM][CV]  svc__C=0.0001, svc__kernel=linear, score=0.6111111111111112, total=   0.0s\n",
      "[LibSVM][CV]  svc__C=0.0001, svc__kernel=linear, score=0.6179775280898876, total=   0.0s\n",
      "[LibSVM][CV]  svc__C=0.0001, svc__kernel=linear, score=0.6111111111111112, total=   0.0s\n",
      "[CV] svc__C=0.0001, svc__kernel=linear ...............................\n",
      "[LibSVM][CV]  svc__C=0.0001, svc__kernel=linear, score=0.6179775280898876, total=   0.0s\n",
      "[CV] svc__C=0.0001, svc__kernel=linear ...............................\n",
      "[CV] svc__C=0.0001, svc__kernel=linear ...............................\n",
      "[CV] svc__C=0.0001, svc__kernel=linear ...............................\n",
      "[LibSVM][CV]  svc__C=0.0001, svc__kernel=linear, score=0.6179775280898876, total=   0.0s\n",
      "[CV] svc__C=0.0001, svc__kernel=linear ...............................\n",
      "[LibSVM][CV]  svc__C=0.0001, svc__kernel=linear, score=0.6179775280898876, total=   0.0s\n",
      "[CV] svc__C=0.001, svc__kernel=linear ................................\n",
      "[LibSVM][CV]  svc__C=0.0001, svc__kernel=linear, score=0.6179775280898876, total=   0.0s\n",
      "[CV] svc__C=0.001, svc__kernel=linear ................................\n",
      "[LibSVM][CV]  svc__C=0.001, svc__kernel=linear, score=0.7078651685393258, total=   0.0s\n",
      "[CV] svc__C=0.001, svc__kernel=linear ................................\n",
      "[LibSVM][CV]  svc__C=0.0001, svc__kernel=linear, score=0.6179775280898876, total=   0.0s\n",
      "[CV] svc__C=0.0001, svc__kernel=linear ...............................\n",
      "[LibSVM][CV]  svc__C=0.0001, svc__kernel=linear, score=0.6179775280898876, total=   0.0s\n",
      "[CV] svc__C=0.01, svc__kernel=linear .................................\n",
      "[LibSVM][CV]  svc__C=0.001, svc__kernel=linear, score=0.6629213483146067, total=   0.0s\n",
      "[CV] svc__C=0.001, svc__kernel=linear ................................\n",
      "[LibSVM][CV]  svc__C=0.01, svc__kernel=linear, score=0.8111111111111111, total=   0.0s\n",
      "[CV] svc__C=0.01, svc__kernel=linear .................................\n",
      "[LibSVM][CV]  svc__C=0.001, svc__kernel=linear, score=0.7640449438202247, total=   0.0s\n",
      "[CV] svc__C=0.001, svc__kernel=linear ................................\n",
      "[LibSVM][CV]  svc__C=0.0001, svc__kernel=linear, score=0.6136363636363636, total=   0.0s\n",
      "[CV] svc__C=0.001, svc__kernel=linear ................................\n",
      "[LibSVM][CV]  svc__C=0.001, svc__kernel=linear, score=0.6853932584269663, total=   0.0s\n",
      "[CV] svc__C=0.001, svc__kernel=linear ................................\n",
      "[LibSVM][CV]  svc__C=0.01, svc__kernel=linear, score=0.7888888888888889, total=   0.0s\n",
      "[CV] svc__C=0.01, svc__kernel=linear .................................\n",
      "[LibSVM][CV]  svc__C=0.001, svc__kernel=linear, score=0.6741573033707865, total=   0.0s\n",
      "[CV] svc__C=0.001, svc__kernel=linear ................................\n",
      "[LibSVM][CV]  svc__C=0.001, svc__kernel=linear, score=0.6666666666666666, total=   0.0s\n",
      "[CV] svc__C=0.001, svc__kernel=linear ................................\n"
     ]
    },
    {
     "name": "stderr",
     "output_type": "stream",
     "text": [
      "[Parallel(n_jobs=4)]: Batch computation too fast (0.0805s.) Setting batch_size=4.\n",
      "[Parallel(n_jobs=4)]: Done   5 tasks      | elapsed:    0.1s\n"
     ]
    },
    {
     "name": "stdout",
     "output_type": "stream",
     "text": [
      "[LibSVM][CV]  svc__C=0.001, svc__kernel=linear, score=0.6966292134831461, total=   0.0s\n",
      "[CV] svc__C=0.001, svc__kernel=linear ................................\n",
      "[LibSVM][CV]  svc__C=0.01, svc__kernel=linear, score=0.7752808988764045, total=   0.0s\n",
      "[CV] svc__C=0.01, svc__kernel=linear .................................\n",
      "[LibSVM][CV]  svc__C=0.001, svc__kernel=linear, score=0.6292134831460674, total=   0.0s\n",
      "[CV] svc__C=0.01, svc__kernel=linear .................................\n",
      "[LibSVM][CV]  svc__C=0.001, svc__kernel=linear, score=0.6333333333333333, total=   0.0s\n",
      "[CV] svc__C=0.01, svc__kernel=linear .................................\n",
      "[LibSVM][CV]  svc__C=0.01, svc__kernel=linear, score=0.8426966292134831, total=   0.0s\n",
      "[LibSVM][CV]  svc__C=0.001, svc__kernel=linear, score=0.6363636363636364, total=   0.0s\n",
      "[LibSVM][CV]  svc__C=0.01, svc__kernel=linear, score=0.797752808988764, total=   0.0s\n",
      "[CV] svc__C=0.01, svc__kernel=linear .................................\n",
      "[CV] svc__C=0.1, svc__kernel=linear ..................................\n",
      "[CV] svc__C=0.1, svc__kernel=linear ..................................\n",
      "[LibSVM][CV]  svc__C=0.01, svc__kernel=linear, score=0.8089887640449438, total=   0.0s\n",
      "[CV] svc__C=0.01, svc__kernel=linear .................................\n",
      "[LibSVM][CV]  svc__C=0.1, svc__kernel=linear, score=0.7865168539325843, total=   0.0s\n",
      "[CV] svc__C=0.1, svc__kernel=linear ..................................\n",
      "[LibSVM][CV]  svc__C=0.1, svc__kernel=linear, score=0.7640449438202247, total=   0.0s\n",
      "[CV] svc__C=0.1, svc__kernel=linear ..................................\n",
      "[LibSVM][CV]  svc__C=0.01, svc__kernel=linear, score=0.7752808988764045, total=   0.0s\n",
      "[CV] svc__C=0.01, svc__kernel=linear .................................\n",
      "[LibSVM][CV]  svc__C=0.01, svc__kernel=linear, score=0.7613636363636364, total=   0.0s\n",
      "[LibSVM][CV]  svc__C=0.1, svc__kernel=linear, score=0.7528089887640449, total=   0.0s\n",
      "[CV] svc__C=0.1, svc__kernel=linear ..................................\n",
      "[CV] svc__C=0.1, svc__kernel=linear ..................................\n",
      "[LibSVM][CV]  svc__C=0.1, svc__kernel=linear, score=0.8539325842696629, total=   0.0s\n",
      "[CV] svc__C=0.1, svc__kernel=linear ..................................\n",
      "[LibSVM][CV] ........ svc__C=0.1, svc__kernel=linear, score=0.8, total=   0.0s\n",
      "[CV] svc__C=0.1, svc__kernel=linear ..................................\n",
      "[LibSVM][CV]  svc__C=0.01, svc__kernel=linear, score=0.7640449438202247, total=   0.0s\n",
      "[CV] svc__C=0.01, svc__kernel=linear .................................\n",
      "[LibSVM][CV]  svc__C=0.1, svc__kernel=linear, score=0.8089887640449438, total=   0.0s\n",
      "[CV] svc__C=0.1, svc__kernel=linear ..................................\n",
      "[LibSVM][CV]  svc__C=0.01, svc__kernel=linear, score=0.7415730337078652, total=   0.0s\n",
      "[LibSVM][CV]  svc__C=0.1, svc__kernel=linear, score=0.797752808988764, total=   0.0s\n",
      "[CV] svc__C=1, svc__kernel=linear ....................................\n",
      "[LibSVM][CV]  svc__C=0.1, svc__kernel=linear, score=0.7888888888888889, total=   0.0s\n",
      "[CV] svc__C=0.1, svc__kernel=linear ..................................\n",
      "[CV] svc__C=1, svc__kernel=linear ....................................\n",
      "[LibSVM][CV]  svc__C=0.1, svc__kernel=linear, score=0.7613636363636364, total=   0.0s\n",
      "[CV] svc__C=1, svc__kernel=linear ....................................\n"
     ]
    },
    {
     "name": "stderr",
     "output_type": "stream",
     "text": [
      "[Parallel(n_jobs=4)]: Done  16 tasks      | elapsed:    0.3s\n"
     ]
    },
    {
     "name": "stdout",
     "output_type": "stream",
     "text": [
      "[LibSVM][CV]  svc__C=0.1, svc__kernel=linear, score=0.7865168539325843, total=   0.0s\n",
      "[CV] svc__C=10, svc__kernel=linear ...................................\n",
      "[LibSVM][CV] .......... svc__C=1, svc__kernel=linear, score=0.8, total=   0.1s\n",
      "[CV] svc__C=1, svc__kernel=linear ....................................\n",
      "[LibSVM][CV]  svc__C=1, svc__kernel=linear, score=0.797752808988764, total=   0.1s\n",
      "[CV] svc__C=1, svc__kernel=linear ....................................\n",
      "[LibSVM][CV]  svc__C=1, svc__kernel=linear, score=0.8202247191011236, total=   0.1s\n",
      "[CV] svc__C=1, svc__kernel=linear ....................................\n",
      "[LibSVM][CV]  svc__C=1, svc__kernel=linear, score=0.7888888888888889, total=   0.1s\n",
      "[CV] svc__C=1, svc__kernel=linear ....................................\n",
      "[LibSVM][CV]  svc__C=1, svc__kernel=linear, score=0.7613636363636364, total=   0.0s\n",
      "[CV] svc__C=10, svc__kernel=linear ...................................\n",
      "[LibSVM][CV]  svc__C=1, svc__kernel=linear, score=0.7865168539325843, total=   0.0s\n",
      "[CV] svc__C=1, svc__kernel=linear ....................................\n",
      "[LibSVM][CV]  svc__C=1, svc__kernel=linear, score=0.7865168539325843, total=   0.0s\n",
      "[CV] svc__C=1, svc__kernel=linear ....................................\n",
      "[LibSVM][CV]  svc__C=1, svc__kernel=linear, score=0.7640449438202247, total=   0.0s\n",
      "[CV] svc__C=1, svc__kernel=linear ....................................\n",
      "[LibSVM][CV]  svc__C=1, svc__kernel=linear, score=0.8539325842696629, total=   0.0s\n",
      "[CV] svc__C=10, svc__kernel=linear ...................................\n",
      "[LibSVM][CV]  svc__C=1, svc__kernel=linear, score=0.7528089887640449, total=   0.0s\n",
      "[CV] svc__C=0.0001, svc__gamma=0.0001, svc__kernel=rbf ...............\n",
      "[LibSVM][CV]  svc__C=10, svc__kernel=linear, score=0.7865168539325843, total=   0.2s\n",
      "[CV] svc__C=10, svc__kernel=linear ...................................\n",
      "[LibSVM][CV]  svc__C=0.0001, svc__gamma=0.0001, svc__kernel=rbf, score=0.6111111111111112, total=   0.0s\n",
      "[CV] svc__C=0.0001, svc__gamma=0.0001, svc__kernel=rbf ...............\n",
      "[LibSVM][CV]  svc__C=0.0001, svc__gamma=0.0001, svc__kernel=rbf, score=0.6111111111111112, total=   0.0s\n",
      "[LibSVM][CV] ......... svc__C=10, svc__kernel=linear, score=0.8, total=   0.2s\n",
      "[CV] svc__C=0.0001, svc__gamma=0.0001, svc__kernel=rbf ...............\n",
      "[CV] svc__C=10, svc__kernel=linear ...................................\n",
      "[LibSVM][CV]  svc__C=0.0001, svc__gamma=0.0001, svc__kernel=rbf, score=0.6179775280898876, total=   0.0s\n",
      "[CV] svc__C=0.0001, svc__gamma=0.0001, svc__kernel=rbf ...............\n"
     ]
    },
    {
     "name": "stderr",
     "output_type": "stream",
     "text": [
      "[Parallel(n_jobs=4)]: Done  44 tasks      | elapsed:    0.7s\n"
     ]
    },
    {
     "name": "stdout",
     "output_type": "stream",
     "text": [
      "[LibSVM][CV]  svc__C=0.0001, svc__gamma=0.0001, svc__kernel=rbf, score=0.6179775280898876, total=   0.0s\n",
      "[CV] svc__C=0.0001, svc__gamma=0.0001, svc__kernel=rbf ...............\n",
      "[LibSVM][CV]  svc__C=10, svc__kernel=linear, score=0.8539325842696629, total=   0.2s\n",
      "[CV] svc__C=10, svc__kernel=linear ...................................\n",
      "[LibSVM][CV]  svc__C=10, svc__kernel=linear, score=0.7640449438202247, total=   0.2s\n",
      "[CV] svc__C=10, svc__kernel=linear ...................................\n",
      "[LibSVM][CV]  svc__C=0.0001, svc__gamma=0.0001, svc__kernel=rbf, score=0.6179775280898876, total=   0.0s\n",
      "[CV] svc__C=0.0001, svc__gamma=0.0001, svc__kernel=rbf ...............\n",
      "[LibSVM][CV]  svc__C=10, svc__kernel=linear, score=0.7888888888888889, total=   0.2s\n",
      "[CV] svc__C=0.0001, svc__gamma=0.0001, svc__kernel=rbf ...............\n",
      "[LibSVM][CV]  svc__C=0.0001, svc__gamma=0.0001, svc__kernel=rbf, score=0.6179775280898876, total=   0.0s\n",
      "[CV] svc__C=0.0001, svc__gamma=0.0001, svc__kernel=rbf ...............\n",
      "[LibSVM][CV]  svc__C=0.0001, svc__gamma=0.0001, svc__kernel=rbf, score=0.6179775280898876, total=   0.0s\n",
      "[CV] svc__C=0.0001, svc__gamma=0.0001, svc__kernel=rbf ...............\n",
      "[LibSVM][CV]  svc__C=0.0001, svc__gamma=0.0001, svc__kernel=rbf, score=0.6179775280898876, total=   0.0s\n",
      "[CV] svc__C=0.0001, svc__gamma=0.0001, svc__kernel=rbf ...............\n",
      "[LibSVM][CV]  svc__C=0.0001, svc__gamma=0.0001, svc__kernel=rbf, score=0.6136363636363636, total=   0.0s\n",
      "[CV] svc__C=0.0001, svc__gamma=0.001, svc__kernel=rbf ................\n",
      "[LibSVM][CV]  svc__C=10, svc__kernel=linear, score=0.7528089887640449, total=   0.2s\n",
      "[CV] svc__C=10, svc__kernel=linear ...................................\n",
      "[LibSVM][CV]  svc__C=0.0001, svc__gamma=0.0001, svc__kernel=rbf, score=0.6179775280898876, total=   0.0s\n",
      "[CV] svc__C=0.0001, svc__gamma=0.001, svc__kernel=rbf ................\n",
      "[LibSVM][CV]  svc__C=10, svc__kernel=linear, score=0.797752808988764, total=   0.2s\n",
      "[CV] svc__C=10, svc__kernel=linear ...................................\n",
      "[LibSVM][CV]  svc__C=0.0001, svc__gamma=0.001, svc__kernel=rbf, score=0.6111111111111112, total=   0.0s\n",
      "[CV] svc__C=0.0001, svc__gamma=0.001, svc__kernel=rbf ................\n",
      "[LibSVM][CV]  svc__C=0.0001, svc__gamma=0.001, svc__kernel=rbf, score=0.6179775280898876, total=   0.0s\n",
      "[CV] svc__C=0.0001, svc__gamma=0.001, svc__kernel=rbf ................\n",
      "[LibSVM][CV]  svc__C=0.0001, svc__gamma=0.001, svc__kernel=rbf, score=0.6111111111111112, total=   0.0s\n",
      "[CV] svc__C=0.0001, svc__gamma=0.001, svc__kernel=rbf ................\n",
      "[LibSVM][CV]  svc__C=0.0001, svc__gamma=0.001, svc__kernel=rbf, score=0.6179775280898876, total=   0.0s\n",
      "[CV] svc__C=0.0001, svc__gamma=0.001, svc__kernel=rbf ................\n",
      "[LibSVM][CV]  svc__C=0.0001, svc__gamma=0.001, svc__kernel=rbf, score=0.6179775280898876, total=   0.0s\n",
      "[CV] svc__C=0.0001, svc__gamma=0.001, svc__kernel=rbf ................\n",
      "[LibSVM][CV]  svc__C=0.0001, svc__gamma=0.001, svc__kernel=rbf, score=0.6179775280898876, total=   0.0s\n",
      "[CV] svc__C=0.0001, svc__gamma=0.001, svc__kernel=rbf ................\n",
      "[LibSVM][CV]  svc__C=10, svc__kernel=linear, score=0.8202247191011236, total=   0.2s\n",
      "[CV] svc__C=10, svc__kernel=linear ...................................\n",
      "[LibSVM][CV]  svc__C=0.0001, svc__gamma=0.001, svc__kernel=rbf, score=0.6179775280898876, total=   0.0s\n",
      "[CV] svc__C=0.0001, svc__gamma=0.001, svc__kernel=rbf ................\n",
      "[LibSVM][CV]  svc__C=10, svc__kernel=linear, score=0.7865168539325843, total=   0.2s\n",
      "[CV] svc__C=0.0001, svc__gamma=0.01, svc__kernel=rbf .................\n",
      "[LibSVM][CV]  svc__C=0.0001, svc__gamma=0.001, svc__kernel=rbf, score=0.6179775280898876, total=   0.0s\n",
      "[CV] svc__C=0.0001, svc__gamma=0.01, svc__kernel=rbf .................\n",
      "[LibSVM][CV]  svc__C=0.0001, svc__gamma=0.001, svc__kernel=rbf, score=0.6179775280898876, total=   0.0s\n",
      "[CV] svc__C=0.0001, svc__gamma=0.001, svc__kernel=rbf ................\n",
      "[LibSVM][CV]  svc__C=0.0001, svc__gamma=0.01, svc__kernel=rbf, score=0.6111111111111112, total=   0.0s\n",
      "[CV] svc__C=0.0001, svc__gamma=0.01, svc__kernel=rbf .................\n",
      "[LibSVM][CV]  svc__C=10, svc__kernel=linear, score=0.7613636363636364, total=   0.1s\n",
      "[LibSVM][CV]  svc__C=0.0001, svc__gamma=0.01, svc__kernel=rbf, score=0.6179775280898876, total=   0.0s\n",
      "[CV] svc__C=0.0001, svc__gamma=0.01, svc__kernel=rbf .................\n",
      "[CV] svc__C=0.0001, svc__gamma=0.01, svc__kernel=rbf .................\n",
      "[LibSVM][CV]  svc__C=0.0001, svc__gamma=0.001, svc__kernel=rbf, score=0.6136363636363636, total=   0.0s\n",
      "[CV] svc__C=0.0001, svc__gamma=0.1, svc__kernel=rbf ..................\n",
      "[LibSVM][CV]  svc__C=0.0001, svc__gamma=0.01, svc__kernel=rbf, score=0.6111111111111112, total=   0.0s\n",
      "[CV] svc__C=0.0001, svc__gamma=0.01, svc__kernel=rbf .................\n",
      "[LibSVM][CV]  svc__C=0.0001, svc__gamma=0.01, svc__kernel=rbf, score=0.6179775280898876, total=   0.1s\n",
      "[CV] svc__C=0.0001, svc__gamma=0.01, svc__kernel=rbf .................\n",
      "[LibSVM][CV]  svc__C=0.0001, svc__gamma=0.01, svc__kernel=rbf, score=0.6179775280898876, total=   0.0s\n",
      "[CV] svc__C=0.0001, svc__gamma=0.01, svc__kernel=rbf .................\n",
      "[LibSVM][CV]  svc__C=0.0001, svc__gamma=0.1, svc__kernel=rbf, score=0.6179775280898876, total=   0.0s\n",
      "[CV] svc__C=0.0001, svc__gamma=0.1, svc__kernel=rbf ..................\n",
      "[LibSVM][CV]  svc__C=0.0001, svc__gamma=0.01, svc__kernel=rbf, score=0.6179775280898876, total=   0.0s\n",
      "[CV] svc__C=0.0001, svc__gamma=0.01, svc__kernel=rbf .................\n"
     ]
    },
    {
     "name": "stderr",
     "output_type": "stream",
     "text": [
      "[Parallel(n_jobs=4)]: Done  72 tasks      | elapsed:    1.4s\n"
     ]
    },
    {
     "name": "stdout",
     "output_type": "stream",
     "text": [
      "[LibSVM][CV]  svc__C=0.0001, svc__gamma=0.01, svc__kernel=rbf, score=0.6179775280898876, total=   0.0s\n",
      "[CV] svc__C=0.0001, svc__gamma=0.01, svc__kernel=rbf .................\n",
      "[LibSVM][CV]  svc__C=0.0001, svc__gamma=0.01, svc__kernel=rbf, score=0.6136363636363636, total=   0.0s\n",
      "[CV] svc__C=0.0001, svc__gamma=0.1, svc__kernel=rbf ..................\n",
      "[LibSVM][CV]  svc__C=0.0001, svc__gamma=0.1, svc__kernel=rbf, score=0.6179775280898876, total=   0.0s\n",
      "[CV] svc__C=0.0001, svc__gamma=0.1, svc__kernel=rbf ..................\n",
      "[LibSVM][CV]  svc__C=0.0001, svc__gamma=0.01, svc__kernel=rbf, score=0.6179775280898876, total=   0.0s\n",
      "[CV] svc__C=0.0001, svc__gamma=0.1, svc__kernel=rbf ..................\n",
      "[LibSVM][CV]  svc__C=0.0001, svc__gamma=0.01, svc__kernel=rbf, score=0.6179775280898876, total=   0.0s\n",
      "[CV] svc__C=0.0001, svc__gamma=1, svc__kernel=rbf ....................\n",
      "[LibSVM][CV]  svc__C=0.0001, svc__gamma=0.1, svc__kernel=rbf, score=0.6111111111111112, total=   0.0s\n",
      "[CV] svc__C=0.0001, svc__gamma=0.1, svc__kernel=rbf ..................\n",
      "[LibSVM][CV]  svc__C=0.0001, svc__gamma=0.1, svc__kernel=rbf, score=0.6179775280898876, total=   0.0s\n",
      "[CV] svc__C=0.0001, svc__gamma=0.1, svc__kernel=rbf ..................\n",
      "[LibSVM][CV]  svc__C=0.0001, svc__gamma=0.1, svc__kernel=rbf, score=0.6179775280898876, total=   0.0s\n",
      "[CV] svc__C=0.0001, svc__gamma=0.1, svc__kernel=rbf ..................\n",
      "[LibSVM][CV]  svc__C=0.0001, svc__gamma=1, svc__kernel=rbf, score=0.6111111111111112, total=   0.0s\n",
      "[CV] svc__C=0.0001, svc__gamma=1, svc__kernel=rbf ....................\n",
      "[LibSVM][CV]  svc__C=0.0001, svc__gamma=0.1, svc__kernel=rbf, score=0.6111111111111112, total=   0.0s\n",
      "[CV] svc__C=0.0001, svc__gamma=1, svc__kernel=rbf ....................\n",
      "[LibSVM][CV]  svc__C=0.0001, svc__gamma=0.1, svc__kernel=rbf, score=0.6179775280898876, total=   0.0s\n",
      "[CV] svc__C=0.0001, svc__gamma=1, svc__kernel=rbf ....................\n",
      "[LibSVM][CV]  svc__C=0.0001, svc__gamma=0.1, svc__kernel=rbf, score=0.6179775280898876, total=   0.0s\n",
      "[CV] svc__C=0.0001, svc__gamma=0.1, svc__kernel=rbf ..................\n",
      "[LibSVM][CV]  svc__C=0.0001, svc__gamma=1, svc__kernel=rbf, score=0.6111111111111112, total=   0.0s\n",
      "[CV] svc__C=0.0001, svc__gamma=1, svc__kernel=rbf ....................\n",
      "[LibSVM][CV]  svc__C=0.0001, svc__gamma=1, svc__kernel=rbf, score=0.6179775280898876, total=   0.1s\n",
      "[CV] svc__C=0.0001, svc__gamma=1, svc__kernel=rbf ....................\n",
      "[LibSVM][CV]  svc__C=0.0001, svc__gamma=1, svc__kernel=rbf, score=0.6179775280898876, total=   0.0s\n",
      "[CV] svc__C=0.0001, svc__gamma=1, svc__kernel=rbf ....................\n",
      "[LibSVM][CV]  svc__C=0.0001, svc__gamma=0.1, svc__kernel=rbf, score=0.6179775280898876, total=   0.0s\n",
      "[CV] svc__C=0.0001, svc__gamma=0.1, svc__kernel=rbf ..................\n",
      "[LibSVM][CV]  svc__C=0.0001, svc__gamma=1, svc__kernel=rbf, score=0.6179775280898876, total=   0.1s\n",
      "[CV] svc__C=0.0001, svc__gamma=1, svc__kernel=rbf ....................\n",
      "[LibSVM][CV]  svc__C=0.0001, svc__gamma=1, svc__kernel=rbf, score=0.6179775280898876, total=   0.0s\n",
      "[CV] svc__C=0.0001, svc__gamma=1, svc__kernel=rbf ....................\n",
      "[LibSVM][CV]  svc__C=0.0001, svc__gamma=1, svc__kernel=rbf, score=0.6136363636363636, total=   0.0s\n",
      "[CV] svc__C=0.0001, svc__gamma=10, svc__kernel=rbf ...................\n",
      "[LibSVM][CV]  svc__C=0.0001, svc__gamma=0.1, svc__kernel=rbf, score=0.6136363636363636, total=   0.0s\n",
      "[CV] svc__C=0.0001, svc__gamma=10, svc__kernel=rbf ...................\n",
      "[LibSVM][CV]  svc__C=0.0001, svc__gamma=1, svc__kernel=rbf, score=0.6179775280898876, total=   0.0s\n",
      "[CV] svc__C=0.0001, svc__gamma=10, svc__kernel=rbf ...................\n",
      "[LibSVM][CV]  svc__C=0.0001, svc__gamma=1, svc__kernel=rbf, score=0.6179775280898876, total=   0.0s\n",
      "[CV] svc__C=0.0001, svc__gamma=1, svc__kernel=rbf ....................\n",
      "[LibSVM][CV]  svc__C=0.0001, svc__gamma=10, svc__kernel=rbf, score=0.6111111111111112, total=   0.0s\n",
      "[CV] svc__C=0.0001, svc__gamma=10, svc__kernel=rbf ...................\n",
      "[LibSVM][CV]  svc__C=0.0001, svc__gamma=10, svc__kernel=rbf, score=0.6179775280898876, total=   0.0s\n",
      "[CV] svc__C=0.0001, svc__gamma=10, svc__kernel=rbf ...................\n",
      "[LibSVM][CV]  svc__C=0.0001, svc__gamma=10, svc__kernel=rbf, score=0.6179775280898876, total=   0.0s\n",
      "[CV] svc__C=0.0001, svc__gamma=10, svc__kernel=rbf ...................\n",
      "[LibSVM][CV]  svc__C=0.0001, svc__gamma=1, svc__kernel=rbf, score=0.6179775280898876, total=   0.0s\n",
      "[LibSVM][CV]  svc__C=0.0001, svc__gamma=10, svc__kernel=rbf, score=0.6111111111111112, total=   0.0s\n",
      "[CV] svc__C=0.001, svc__gamma=0.0001, svc__kernel=rbf ................\n",
      "[CV] svc__C=0.001, svc__gamma=0.0001, svc__kernel=rbf ................\n",
      "[LibSVM][CV]  svc__C=0.0001, svc__gamma=10, svc__kernel=rbf, score=0.6179775280898876, total=   0.0s\n",
      "[CV] svc__C=0.0001, svc__gamma=10, svc__kernel=rbf ...................\n",
      "[LibSVM][CV]  svc__C=0.0001, svc__gamma=10, svc__kernel=rbf, score=0.6179775280898876, total=   0.0s\n",
      "[CV] svc__C=0.0001, svc__gamma=10, svc__kernel=rbf ...................\n",
      "[LibSVM][CV]  svc__C=0.001, svc__gamma=0.0001, svc__kernel=rbf, score=0.6111111111111112, total=   0.0s\n",
      "[CV] svc__C=0.001, svc__gamma=0.0001, svc__kernel=rbf ................\n",
      "[LibSVM][CV]  svc__C=0.001, svc__gamma=0.0001, svc__kernel=rbf, score=0.6179775280898876, total=   0.0s\n",
      "[CV] svc__C=0.001, svc__gamma=0.0001, svc__kernel=rbf ................\n",
      "[LibSVM][CV]  svc__C=0.0001, svc__gamma=10, svc__kernel=rbf, score=0.6179775280898876, total=   0.0s\n",
      "[CV] svc__C=0.0001, svc__gamma=10, svc__kernel=rbf ...................\n",
      "[LibSVM][CV]  svc__C=0.001, svc__gamma=0.0001, svc__kernel=rbf, score=0.6111111111111112, total=   0.0s\n",
      "[LibSVM][CV]  svc__C=0.0001, svc__gamma=10, svc__kernel=rbf, score=0.6179775280898876, total=   0.0s\n",
      "[CV] svc__C=0.001, svc__gamma=0.0001, svc__kernel=rbf ................\n",
      "[CV] svc__C=0.0001, svc__gamma=10, svc__kernel=rbf ...................\n",
      "[LibSVM][CV]  svc__C=0.001, svc__gamma=0.0001, svc__kernel=rbf, score=0.6179775280898876, total=   0.0s\n",
      "[CV] svc__C=0.001, svc__gamma=0.0001, svc__kernel=rbf ................\n",
      "[LibSVM][CV]  svc__C=0.0001, svc__gamma=10, svc__kernel=rbf, score=0.6179775280898876, total=   0.0s\n",
      "[CV] svc__C=0.001, svc__gamma=0.0001, svc__kernel=rbf ................\n",
      "[LibSVM][CV]  svc__C=0.0001, svc__gamma=10, svc__kernel=rbf, score=0.6136363636363636, total=   0.0s\n",
      "[LibSVM][CV]  svc__C=0.001, svc__gamma=0.0001, svc__kernel=rbf, score=0.6179775280898876, total=   0.0s\n",
      "[CV] svc__C=0.001, svc__gamma=0.001, svc__kernel=rbf .................\n",
      "[CV] svc__C=0.001, svc__gamma=0.0001, svc__kernel=rbf ................\n",
      "[LibSVM][CV]  svc__C=0.001, svc__gamma=0.0001, svc__kernel=rbf, score=0.6179775280898876, total=   0.0s\n",
      "[CV] svc__C=0.001, svc__gamma=0.0001, svc__kernel=rbf ................\n"
     ]
    },
    {
     "name": "stderr",
     "output_type": "stream",
     "text": [
      "[Parallel(n_jobs=4)]: Done 108 tasks      | elapsed:    2.0s\n"
     ]
    },
    {
     "name": "stdout",
     "output_type": "stream",
     "text": [
      "[LibSVM][CV]  svc__C=0.001, svc__gamma=0.0001, svc__kernel=rbf, score=0.6179775280898876, total=   0.0s\n",
      "[CV] svc__C=0.001, svc__gamma=0.0001, svc__kernel=rbf ................\n",
      "[LibSVM][CV]  svc__C=0.001, svc__gamma=0.001, svc__kernel=rbf, score=0.6179775280898876, total=   0.0s\n",
      "[CV] svc__C=0.001, svc__gamma=0.001, svc__kernel=rbf .................\n",
      "[LibSVM][CV]  svc__C=0.001, svc__gamma=0.0001, svc__kernel=rbf, score=0.6179775280898876, total=   0.0s\n",
      "[CV] svc__C=0.001, svc__gamma=0.001, svc__kernel=rbf .................\n",
      "[LibSVM][CV]  svc__C=0.001, svc__gamma=0.0001, svc__kernel=rbf, score=0.6179775280898876, total=   0.0s\n",
      "[CV] svc__C=0.001, svc__gamma=0.01, svc__kernel=rbf ..................\n",
      "[LibSVM][CV]  svc__C=0.001, svc__gamma=0.0001, svc__kernel=rbf, score=0.6136363636363636, total=   0.0s\n",
      "[CV] svc__C=0.001, svc__gamma=0.001, svc__kernel=rbf .................\n",
      "[LibSVM][CV]  svc__C=0.001, svc__gamma=0.001, svc__kernel=rbf, score=0.6179775280898876, total=   0.1s\n",
      "[CV] svc__C=0.001, svc__gamma=0.001, svc__kernel=rbf .................\n",
      "[LibSVM][CV]  svc__C=0.001, svc__gamma=0.01, svc__kernel=rbf, score=0.6111111111111112, total=   0.0s\n",
      "[CV] svc__C=0.001, svc__gamma=0.01, svc__kernel=rbf ..................\n",
      "[LibSVM][CV]  svc__C=0.001, svc__gamma=0.001, svc__kernel=rbf, score=0.6179775280898876, total=   0.0s\n",
      "[CV] svc__C=0.001, svc__gamma=0.001, svc__kernel=rbf .................\n",
      "[LibSVM][CV]  svc__C=0.001, svc__gamma=0.001, svc__kernel=rbf, score=0.6111111111111112, total=   0.0s\n",
      "[CV] svc__C=0.001, svc__gamma=0.001, svc__kernel=rbf .................\n",
      "[LibSVM][CV]  svc__C=0.001, svc__gamma=0.001, svc__kernel=rbf, score=0.6179775280898876, total=   0.0s\n",
      "[CV] svc__C=0.001, svc__gamma=0.001, svc__kernel=rbf .................\n",
      "[LibSVM][CV]  svc__C=0.001, svc__gamma=0.01, svc__kernel=rbf, score=0.6111111111111112, total=   0.1s\n",
      "[LibSVM][CV]  svc__C=0.001, svc__gamma=0.001, svc__kernel=rbf, score=0.6179775280898876, total=   0.0s\n",
      "[CV] svc__C=0.001, svc__gamma=0.01, svc__kernel=rbf ..................\n",
      "[CV] svc__C=0.001, svc__gamma=0.001, svc__kernel=rbf .................\n",
      "[LibSVM][CV]  svc__C=0.001, svc__gamma=0.001, svc__kernel=rbf, score=0.6111111111111112, total=   0.0s\n",
      "[CV] svc__C=0.001, svc__gamma=0.01, svc__kernel=rbf ..................\n",
      "[LibSVM][CV]  svc__C=0.001, svc__gamma=0.001, svc__kernel=rbf, score=0.6179775280898876, total=   0.0s\n",
      "[CV] svc__C=0.001, svc__gamma=0.01, svc__kernel=rbf ..................\n",
      "[LibSVM][CV]  svc__C=0.001, svc__gamma=0.001, svc__kernel=rbf, score=0.6179775280898876, total=   0.0s\n",
      "[LibSVM][CV]  svc__C=0.001, svc__gamma=0.01, svc__kernel=rbf, score=0.6179775280898876, total=   0.0s\n",
      "[CV] svc__C=0.001, svc__gamma=0.01, svc__kernel=rbf ..................\n",
      "[CV] svc__C=0.001, svc__gamma=0.001, svc__kernel=rbf .................\n",
      "[LibSVM][CV]  svc__C=0.001, svc__gamma=0.01, svc__kernel=rbf, score=0.6179775280898876, total=   0.0s\n",
      "[CV] svc__C=0.001, svc__gamma=0.01, svc__kernel=rbf ..................\n",
      "[LibSVM][CV]  svc__C=0.001, svc__gamma=0.01, svc__kernel=rbf, score=0.6179775280898876, total=   0.0s\n",
      "[CV] svc__C=0.001, svc__gamma=0.01, svc__kernel=rbf ..................\n",
      "[LibSVM][CV]  svc__C=0.001, svc__gamma=0.01, svc__kernel=rbf, score=0.6179775280898876, total=   0.0s\n",
      "[CV] svc__C=0.001, svc__gamma=0.1, svc__kernel=rbf ...................\n",
      "[LibSVM][CV]  svc__C=0.001, svc__gamma=0.001, svc__kernel=rbf, score=0.6136363636363636, total=   0.0s\n",
      "[CV] svc__C=0.001, svc__gamma=0.1, svc__kernel=rbf ...................\n",
      "[LibSVM][CV]  svc__C=0.001, svc__gamma=0.01, svc__kernel=rbf, score=0.6179775280898876, total=   0.0s\n",
      "[CV] svc__C=0.001, svc__gamma=0.01, svc__kernel=rbf ..................\n",
      "[LibSVM][CV]  svc__C=0.001, svc__gamma=0.01, svc__kernel=rbf, score=0.6136363636363636, total=   0.0s\n",
      "[CV] svc__C=0.001, svc__gamma=0.1, svc__kernel=rbf ...................\n",
      "[LibSVM][CV]  svc__C=0.001, svc__gamma=0.1, svc__kernel=rbf, score=0.6179775280898876, total=   0.0s\n",
      "[CV] svc__C=0.001, svc__gamma=0.1, svc__kernel=rbf ...................\n",
      "[LibSVM][CV]  svc__C=0.001, svc__gamma=0.1, svc__kernel=rbf, score=0.6179775280898876, total=   0.0s\n",
      "[CV] svc__C=0.001, svc__gamma=0.1, svc__kernel=rbf ...................\n",
      "[LibSVM][CV]  svc__C=0.001, svc__gamma=0.01, svc__kernel=rbf, score=0.6179775280898876, total=   0.0s\n",
      "[CV] svc__C=0.001, svc__gamma=0.01, svc__kernel=rbf ..................\n",
      "[LibSVM][CV]  svc__C=0.001, svc__gamma=0.1, svc__kernel=rbf, score=0.6111111111111112, total=   0.0s\n",
      "[CV] svc__C=0.001, svc__gamma=0.1, svc__kernel=rbf ...................\n",
      "[LibSVM][CV]  svc__C=0.001, svc__gamma=0.1, svc__kernel=rbf, score=0.6179775280898876, total=   0.1s\n",
      "[LibSVM][CV]  svc__C=0.001, svc__gamma=0.1, svc__kernel=rbf, score=0.6179775280898876, total=   0.0s\n",
      "[CV] svc__C=0.001, svc__gamma=0.1, svc__kernel=rbf ...................\n",
      "[LibSVM][CV]  svc__C=0.001, svc__gamma=0.01, svc__kernel=rbf, score=0.6179775280898876, total=   0.0s\n",
      "[CV] svc__C=0.001, svc__gamma=0.1, svc__kernel=rbf ...................\n",
      "[CV] svc__C=0.001, svc__gamma=1, svc__kernel=rbf .....................\n",
      "[LibSVM][CV]  svc__C=0.001, svc__gamma=0.1, svc__kernel=rbf, score=0.6111111111111112, total=   0.0s\n",
      "[CV] svc__C=0.001, svc__gamma=1, svc__kernel=rbf .....................\n",
      "[LibSVM][CV]  svc__C=0.001, svc__gamma=0.1, svc__kernel=rbf, score=0.6179775280898876, total=   0.0s\n"
     ]
    },
    {
     "name": "stderr",
     "output_type": "stream",
     "text": [
      "[Parallel(n_jobs=4)]: Done 144 tasks      | elapsed:    2.6s\n"
     ]
    },
    {
     "name": "stdout",
     "output_type": "stream",
     "text": [
      "[LibSVM][CV]  svc__C=0.001, svc__gamma=0.1, svc__kernel=rbf, score=0.6179775280898876, total=   0.0s\n",
      "[CV] svc__C=0.001, svc__gamma=0.1, svc__kernel=rbf ...................\n",
      "[LibSVM][CV]  svc__C=0.001, svc__gamma=1, svc__kernel=rbf, score=0.6111111111111112, total=   0.0s\n",
      "[CV] svc__C=0.001, svc__gamma=1, svc__kernel=rbf .....................\n",
      "[CV] svc__C=0.001, svc__gamma=0.1, svc__kernel=rbf ...................\n",
      "[LibSVM][CV]  svc__C=0.001, svc__gamma=1, svc__kernel=rbf, score=0.6179775280898876, total=   0.0s\n",
      "[CV] svc__C=0.001, svc__gamma=1, svc__kernel=rbf .....................\n",
      "[LibSVM][CV]  svc__C=0.001, svc__gamma=0.1, svc__kernel=rbf, score=0.6136363636363636, total=   0.0s\n",
      "[LibSVM][CV]  svc__C=0.001, svc__gamma=0.1, svc__kernel=rbf, score=0.6179775280898876, total=   0.0s\n",
      "[CV] svc__C=0.001, svc__gamma=1, svc__kernel=rbf .....................\n",
      "[CV] svc__C=0.001, svc__gamma=10, svc__kernel=rbf ....................\n",
      "[LibSVM][CV]  svc__C=0.001, svc__gamma=1, svc__kernel=rbf, score=0.6111111111111112, total=   0.0s\n",
      "[CV] svc__C=0.001, svc__gamma=1, svc__kernel=rbf .....................\n",
      "[LibSVM][CV]  svc__C=0.001, svc__gamma=1, svc__kernel=rbf, score=0.6179775280898876, total=   0.0s\n",
      "[CV] svc__C=0.001, svc__gamma=1, svc__kernel=rbf .....................\n",
      "[LibSVM][CV]  svc__C=0.001, svc__gamma=1, svc__kernel=rbf, score=0.6179775280898876, total=   0.0s\n",
      "[CV] svc__C=0.001, svc__gamma=1, svc__kernel=rbf .....................\n",
      "[LibSVM][CV]  svc__C=0.001, svc__gamma=10, svc__kernel=rbf, score=0.6179775280898876, total=   0.0s\n",
      "[CV] svc__C=0.001, svc__gamma=10, svc__kernel=rbf ....................\n",
      "[LibSVM][CV]  svc__C=0.001, svc__gamma=1, svc__kernel=rbf, score=0.6179775280898876, total=   0.0s\n",
      "[CV] svc__C=0.001, svc__gamma=1, svc__kernel=rbf .....................\n",
      "[LibSVM][CV]  svc__C=0.001, svc__gamma=1, svc__kernel=rbf, score=0.6179775280898876, total=   0.0s\n",
      "[CV] svc__C=0.001, svc__gamma=1, svc__kernel=rbf .....................\n",
      "[LibSVM][CV]  svc__C=0.001, svc__gamma=1, svc__kernel=rbf, score=0.6136363636363636, total=   0.0s\n",
      "[CV] svc__C=0.001, svc__gamma=10, svc__kernel=rbf ....................\n",
      "[LibSVM][CV]  svc__C=0.001, svc__gamma=10, svc__kernel=rbf, score=0.6179775280898876, total=   0.0s\n",
      "[CV] svc__C=0.001, svc__gamma=10, svc__kernel=rbf ....................\n",
      "[LibSVM][CV]  svc__C=0.001, svc__gamma=1, svc__kernel=rbf, score=0.6179775280898876, total=   0.0s\n",
      "[CV] svc__C=0.001, svc__gamma=10, svc__kernel=rbf ....................\n",
      "[LibSVM][CV]  svc__C=0.001, svc__gamma=1, svc__kernel=rbf, score=0.6179775280898876, total=   0.0s\n",
      "[CV] svc__C=0.01, svc__gamma=0.0001, svc__kernel=rbf .................\n",
      "[LibSVM][CV]  svc__C=0.001, svc__gamma=10, svc__kernel=rbf, score=0.6111111111111112, total=   0.0s\n",
      "[CV] svc__C=0.001, svc__gamma=10, svc__kernel=rbf ....................\n",
      "[LibSVM][CV]  svc__C=0.001, svc__gamma=10, svc__kernel=rbf, score=0.6179775280898876, total=   0.0s\n",
      "[CV] svc__C=0.001, svc__gamma=10, svc__kernel=rbf ....................\n",
      "[LibSVM][CV]  svc__C=0.001, svc__gamma=10, svc__kernel=rbf, score=0.6179775280898876, total=   0.0s\n",
      "[CV] svc__C=0.001, svc__gamma=10, svc__kernel=rbf ....................\n",
      "[LibSVM][CV]  svc__C=0.01, svc__gamma=0.0001, svc__kernel=rbf, score=0.6111111111111112, total=   0.0s\n",
      "[CV] svc__C=0.01, svc__gamma=0.0001, svc__kernel=rbf .................\n",
      "[LibSVM][CV]  svc__C=0.001, svc__gamma=10, svc__kernel=rbf, score=0.6111111111111112, total=   0.0s\n",
      "[CV] svc__C=0.01, svc__gamma=0.0001, svc__kernel=rbf .................\n",
      "[LibSVM][CV]  svc__C=0.001, svc__gamma=10, svc__kernel=rbf, score=0.6179775280898876, total=   0.0s\n",
      "[CV] svc__C=0.001, svc__gamma=10, svc__kernel=rbf ....................\n",
      "[LibSVM][CV]  svc__C=0.001, svc__gamma=10, svc__kernel=rbf, score=0.6179775280898876, total=   0.0s\n",
      "[CV] svc__C=0.01, svc__gamma=0.0001, svc__kernel=rbf .................\n",
      "[LibSVM][CV]  svc__C=0.01, svc__gamma=0.0001, svc__kernel=rbf, score=0.6111111111111112, total=   0.0s\n",
      "[CV] svc__C=0.01, svc__gamma=0.0001, svc__kernel=rbf .................\n",
      "[LibSVM][CV]  svc__C=0.01, svc__gamma=0.0001, svc__kernel=rbf, score=0.6179775280898876, total=   0.0s\n",
      "[CV] svc__C=0.01, svc__gamma=0.0001, svc__kernel=rbf .................\n",
      "[LibSVM][CV]  svc__C=0.001, svc__gamma=10, svc__kernel=rbf, score=0.6179775280898876, total=   0.0s\n",
      "[CV] svc__C=0.001, svc__gamma=10, svc__kernel=rbf ....................\n",
      "[LibSVM][CV]  svc__C=0.01, svc__gamma=0.0001, svc__kernel=rbf, score=0.6179775280898876, total=   0.0s\n",
      "[CV] svc__C=0.01, svc__gamma=0.0001, svc__kernel=rbf .................\n",
      "[LibSVM][CV]  svc__C=0.01, svc__gamma=0.0001, svc__kernel=rbf, score=0.6179775280898876, total=   0.0s\n",
      "[CV] svc__C=0.01, svc__gamma=0.0001, svc__kernel=rbf .................\n",
      "[LibSVM][CV]  svc__C=0.01, svc__gamma=0.0001, svc__kernel=rbf, score=0.6179775280898876, total=   0.0s\n",
      "[CV] svc__C=0.01, svc__gamma=0.0001, svc__kernel=rbf .................\n",
      "[LibSVM][CV]  svc__C=0.001, svc__gamma=10, svc__kernel=rbf, score=0.6136363636363636, total=   0.0s\n",
      "[CV] svc__C=0.01, svc__gamma=0.001, svc__kernel=rbf ..................\n",
      "[LibSVM][CV]  svc__C=0.01, svc__gamma=0.0001, svc__kernel=rbf, score=0.6136363636363636, total=   0.0s\n",
      "[CV] svc__C=0.01, svc__gamma=0.001, svc__kernel=rbf ..................\n",
      "[LibSVM][CV]  svc__C=0.01, svc__gamma=0.0001, svc__kernel=rbf, score=0.6179775280898876, total=   0.0s\n",
      "[CV] svc__C=0.01, svc__gamma=0.001, svc__kernel=rbf ..................\n",
      "[LibSVM][CV]  svc__C=0.01, svc__gamma=0.0001, svc__kernel=rbf, score=0.6179775280898876, total=   0.0s\n",
      "[CV] svc__C=0.01, svc__gamma=0.0001, svc__kernel=rbf .................\n",
      "[LibSVM][CV]  svc__C=0.01, svc__gamma=0.001, svc__kernel=rbf, score=0.6179775280898876, total=   0.0s\n",
      "[CV] svc__C=0.01, svc__gamma=0.001, svc__kernel=rbf ..................\n",
      "[LibSVM][CV]  svc__C=0.01, svc__gamma=0.001, svc__kernel=rbf, score=0.6111111111111112, total=   0.0s\n",
      "[CV] svc__C=0.01, svc__gamma=0.001, svc__kernel=rbf ..................\n",
      "[LibSVM][CV]  svc__C=0.01, svc__gamma=0.001, svc__kernel=rbf, score=0.6179775280898876, total=   0.0s\n",
      "[CV] svc__C=0.01, svc__gamma=0.001, svc__kernel=rbf ..................\n",
      "[LibSVM][CV]  svc__C=0.01, svc__gamma=0.0001, svc__kernel=rbf, score=0.6179775280898876, total=   0.0s\n",
      "[CV] svc__C=0.01, svc__gamma=0.01, svc__kernel=rbf ...................\n",
      "[LibSVM][CV]  svc__C=0.01, svc__gamma=0.001, svc__kernel=rbf, score=0.6179775280898876, total=   0.1s\n",
      "[CV] svc__C=0.01, svc__gamma=0.001, svc__kernel=rbf ..................\n",
      "[LibSVM][CV]  svc__C=0.01, svc__gamma=0.001, svc__kernel=rbf, score=0.6111111111111112, total=   0.0s\n",
      "[CV] svc__C=0.01, svc__gamma=0.01, svc__kernel=rbf ...................\n",
      "[LibSVM][CV]  svc__C=0.01, svc__gamma=0.001, svc__kernel=rbf, score=0.6179775280898876, total=   0.0s\n",
      "[CV] svc__C=0.01, svc__gamma=0.001, svc__kernel=rbf ..................\n",
      "[LibSVM][CV]  svc__C=0.01, svc__gamma=0.01, svc__kernel=rbf, score=0.6111111111111112, total=   0.0s\n",
      "[CV] svc__C=0.01, svc__gamma=0.01, svc__kernel=rbf ...................\n",
      "[LibSVM][CV]  svc__C=0.01, svc__gamma=0.001, svc__kernel=rbf, score=0.6179775280898876, total=   0.0s\n",
      "[CV] svc__C=0.01, svc__gamma=0.001, svc__kernel=rbf ..................\n",
      "[LibSVM][CV]  svc__C=0.01, svc__gamma=0.001, svc__kernel=rbf, score=0.6179775280898876, total=   0.0s\n",
      "[CV] svc__C=0.01, svc__gamma=0.001, svc__kernel=rbf ..................\n",
      "[LibSVM][CV]  svc__C=0.01, svc__gamma=0.01, svc__kernel=rbf, score=0.6179775280898876, total=   0.0s\n",
      "[CV] svc__C=0.01, svc__gamma=0.01, svc__kernel=rbf ...................\n",
      "[LibSVM][CV]  svc__C=0.01, svc__gamma=0.01, svc__kernel=rbf, score=0.6111111111111112, total=   0.0s\n",
      "[CV] svc__C=0.01, svc__gamma=0.01, svc__kernel=rbf ...................\n",
      "[LibSVM][CV]  svc__C=0.01, svc__gamma=0.001, svc__kernel=rbf, score=0.6179775280898876, total=   0.0s\n",
      "[CV] svc__C=0.01, svc__gamma=0.01, svc__kernel=rbf ...................\n",
      "[LibSVM][CV]  svc__C=0.01, svc__gamma=0.01, svc__kernel=rbf, score=0.6179775280898876, total=   0.0s\n",
      "[CV] svc__C=0.01, svc__gamma=0.01, svc__kernel=rbf ...................\n",
      "[LibSVM][CV]  svc__C=0.01, svc__gamma=0.001, svc__kernel=rbf, score=0.6136363636363636, total=   0.0s\n",
      "[CV] svc__C=0.01, svc__gamma=0.1, svc__kernel=rbf ....................\n",
      "[LibSVM][CV]  svc__C=0.01, svc__gamma=0.01, svc__kernel=rbf, score=0.6179775280898876, total=   0.0s\n"
     ]
    },
    {
     "name": "stdout",
     "output_type": "stream",
     "text": [
      "[CV] svc__C=0.01, svc__gamma=0.01, svc__kernel=rbf ...................\n"
     ]
    },
    {
     "name": "stderr",
     "output_type": "stream",
     "text": [
      "[Parallel(n_jobs=4)]: Done 188 tasks      | elapsed:    3.4s\n"
     ]
    },
    {
     "name": "stdout",
     "output_type": "stream",
     "text": [
      "[LibSVM][CV]  svc__C=0.01, svc__gamma=0.01, svc__kernel=rbf, score=0.6179775280898876, total=   0.1s\n",
      "[CV] svc__C=0.01, svc__gamma=0.01, svc__kernel=rbf ...................\n",
      "[LibSVM][CV]  svc__C=0.01, svc__gamma=0.01, svc__kernel=rbf, score=0.6179775280898876, total=   0.0s\n",
      "[CV] svc__C=0.01, svc__gamma=0.01, svc__kernel=rbf ...................\n",
      "[LibSVM][CV]  svc__C=0.01, svc__gamma=0.1, svc__kernel=rbf, score=0.6179775280898876, total=   0.0s\n",
      "[CV] svc__C=0.01, svc__gamma=0.1, svc__kernel=rbf ....................\n",
      "[LibSVM][CV]  svc__C=0.01, svc__gamma=0.01, svc__kernel=rbf, score=0.6179775280898876, total=   0.0s\n",
      "[CV] svc__C=0.01, svc__gamma=0.1, svc__kernel=rbf ....................\n",
      "[LibSVM][CV]  svc__C=0.01, svc__gamma=0.01, svc__kernel=rbf, score=0.6136363636363636, total=   0.0s\n",
      "[CV] svc__C=0.01, svc__gamma=0.1, svc__kernel=rbf ....................\n",
      "[LibSVM][CV]  svc__C=0.01, svc__gamma=0.01, svc__kernel=rbf, score=0.6179775280898876, total=   0.0s\n",
      "[CV] svc__C=0.01, svc__gamma=1, svc__kernel=rbf ......................\n",
      "[LibSVM][CV]  svc__C=0.01, svc__gamma=0.1, svc__kernel=rbf, score=0.6179775280898876, total=   0.0s\n",
      "[CV] svc__C=0.01, svc__gamma=0.1, svc__kernel=rbf ....................\n",
      "[LibSVM][CV]  svc__C=0.01, svc__gamma=0.1, svc__kernel=rbf, score=0.6179775280898876, total=   0.0s\n",
      "[CV] svc__C=0.01, svc__gamma=0.1, svc__kernel=rbf ....................\n",
      "[LibSVM][CV]  svc__C=0.01, svc__gamma=0.1, svc__kernel=rbf, score=0.6111111111111112, total=   0.1s\n",
      "[CV] svc__C=0.01, svc__gamma=0.1, svc__kernel=rbf ....................\n",
      "[LibSVM][CV]  svc__C=0.01, svc__gamma=0.1, svc__kernel=rbf, score=0.6179775280898876, total=   0.0s\n",
      "[CV] svc__C=0.01, svc__gamma=0.1, svc__kernel=rbf ....................\n",
      "[LibSVM][CV]  svc__C=0.01, svc__gamma=1, svc__kernel=rbf, score=0.6111111111111112, total=   0.0s\n",
      "[CV] svc__C=0.01, svc__gamma=1, svc__kernel=rbf ......................\n",
      "[LibSVM][CV]  svc__C=0.01, svc__gamma=0.1, svc__kernel=rbf, score=0.6179775280898876, total=   0.0s\n",
      "[CV] svc__C=0.01, svc__gamma=0.1, svc__kernel=rbf ....................\n",
      "[LibSVM][CV]  svc__C=0.01, svc__gamma=0.1, svc__kernel=rbf, score=0.6111111111111112, total=   0.0s\n",
      "[CV] svc__C=0.01, svc__gamma=1, svc__kernel=rbf ......................\n",
      "[LibSVM][CV]  svc__C=0.01, svc__gamma=1, svc__kernel=rbf, score=0.6111111111111112, total=   0.0s\n",
      "[CV] svc__C=0.01, svc__gamma=1, svc__kernel=rbf ......................\n",
      "[LibSVM][CV]  svc__C=0.01, svc__gamma=0.1, svc__kernel=rbf, score=0.6179775280898876, total=   0.0s\n",
      "[CV] svc__C=0.01, svc__gamma=1, svc__kernel=rbf ......................\n",
      "[LibSVM][CV]  svc__C=0.01, svc__gamma=0.1, svc__kernel=rbf, score=0.6179775280898876, total=   0.0s\n",
      "[CV] svc__C=0.01, svc__gamma=0.1, svc__kernel=rbf ....................\n",
      "[LibSVM][CV]  svc__C=0.01, svc__gamma=1, svc__kernel=rbf, score=0.6179775280898876, total=   0.0s\n",
      "[CV] svc__C=0.01, svc__gamma=1, svc__kernel=rbf ......................\n",
      "[LibSVM][CV]  svc__C=0.01, svc__gamma=1, svc__kernel=rbf, score=0.6179775280898876, total=   0.0s\n",
      "[CV] svc__C=0.01, svc__gamma=1, svc__kernel=rbf ......................\n",
      "[LibSVM][CV]  svc__C=0.01, svc__gamma=1, svc__kernel=rbf, score=0.6179775280898876, total=   0.0s\n",
      "[CV] svc__C=0.01, svc__gamma=1, svc__kernel=rbf ......................\n",
      "[LibSVM][CV]  svc__C=0.01, svc__gamma=0.1, svc__kernel=rbf, score=0.6136363636363636, total=   0.0s\n",
      "[CV] svc__C=0.01, svc__gamma=10, svc__kernel=rbf .....................\n",
      "[LibSVM][CV]  svc__C=0.01, svc__gamma=1, svc__kernel=rbf, score=0.6179775280898876, total=   0.0s\n",
      "[CV] svc__C=0.01, svc__gamma=10, svc__kernel=rbf .....................\n",
      "[LibSVM][CV]  svc__C=0.01, svc__gamma=1, svc__kernel=rbf, score=0.6179775280898876, total=   0.0s\n",
      "[CV] svc__C=0.01, svc__gamma=1, svc__kernel=rbf ......................\n",
      "[LibSVM][CV]  svc__C=0.01, svc__gamma=1, svc__kernel=rbf, score=0.6136363636363636, total=   0.0s\n",
      "[CV] svc__C=0.01, svc__gamma=10, svc__kernel=rbf .....................\n",
      "[LibSVM][CV]  svc__C=0.01, svc__gamma=10, svc__kernel=rbf, score=0.6179775280898876, total=   0.1s\n",
      "[CV] svc__C=0.01, svc__gamma=10, svc__kernel=rbf .....................\n",
      "[LibSVM][CV]  svc__C=0.01, svc__gamma=1, svc__kernel=rbf, score=0.6179775280898876, total=   0.0s\n",
      "[CV] svc__C=0.01, svc__gamma=1, svc__kernel=rbf ......................\n",
      "[LibSVM][CV]  svc__C=0.01, svc__gamma=10, svc__kernel=rbf, score=0.6179775280898876, total=   0.0s\n",
      "[CV] svc__C=0.01, svc__gamma=10, svc__kernel=rbf .....................\n",
      "[LibSVM][CV]  svc__C=0.01, svc__gamma=10, svc__kernel=rbf, score=0.6111111111111112, total=   0.0s\n",
      "[CV] svc__C=0.01, svc__gamma=10, svc__kernel=rbf .....................\n",
      "[LibSVM][CV]  svc__C=0.01, svc__gamma=10, svc__kernel=rbf, score=0.6179775280898876, total=   0.0s\n",
      "[CV] svc__C=0.01, svc__gamma=10, svc__kernel=rbf .....................\n",
      "[LibSVM][CV]  svc__C=0.01, svc__gamma=1, svc__kernel=rbf, score=0.6179775280898876, total=   0.0s\n",
      "[CV] svc__C=0.1, svc__gamma=0.0001, svc__kernel=rbf ..................\n",
      "[LibSVM][CV]  svc__C=0.01, svc__gamma=10, svc__kernel=rbf, score=0.6179775280898876, total=   0.0s\n",
      "[CV] svc__C=0.01, svc__gamma=10, svc__kernel=rbf .....................\n",
      "[LibSVM][CV]  svc__C=0.01, svc__gamma=10, svc__kernel=rbf, score=0.6111111111111112, total=   0.0s\n",
      "[CV] svc__C=0.1, svc__gamma=0.0001, svc__kernel=rbf ..................\n",
      "[LibSVM][CV]  svc__C=0.01, svc__gamma=10, svc__kernel=rbf, score=0.6179775280898876, total=   0.1s\n",
      "[CV] svc__C=0.01, svc__gamma=10, svc__kernel=rbf .....................\n",
      "[LibSVM][CV]  svc__C=0.1, svc__gamma=0.0001, svc__kernel=rbf, score=0.6111111111111112, total=   0.1s\n",
      "[CV] svc__C=0.1, svc__gamma=0.0001, svc__kernel=rbf ..................\n",
      "[LibSVM][CV]  svc__C=0.01, svc__gamma=10, svc__kernel=rbf, score=0.6179775280898876, total=   0.0s\n",
      "[CV] svc__C=0.01, svc__gamma=10, svc__kernel=rbf .....................\n",
      "[LibSVM][CV]  svc__C=0.1, svc__gamma=0.0001, svc__kernel=rbf, score=0.6179775280898876, total=   0.0s\n",
      "[CV] svc__C=0.1, svc__gamma=0.0001, svc__kernel=rbf ..................\n",
      "[LibSVM][CV]  svc__C=0.01, svc__gamma=10, svc__kernel=rbf, score=0.6179775280898876, total=   0.0s\n",
      "[CV] svc__C=0.1, svc__gamma=0.0001, svc__kernel=rbf ..................\n",
      "[LibSVM][CV]  svc__C=0.1, svc__gamma=0.0001, svc__kernel=rbf, score=0.6111111111111112, total=   0.0s\n",
      "[CV] svc__C=0.1, svc__gamma=0.0001, svc__kernel=rbf ..................\n",
      "[LibSVM][CV]  svc__C=0.01, svc__gamma=10, svc__kernel=rbf, score=0.6136363636363636, total=   0.0s\n",
      "[LibSVM][CV]  svc__C=0.1, svc__gamma=0.0001, svc__kernel=rbf, score=0.6179775280898876, total=   0.0s\n",
      "[CV] svc__C=0.1, svc__gamma=0.001, svc__kernel=rbf ...................\n",
      "[CV] svc__C=0.1, svc__gamma=0.0001, svc__kernel=rbf ..................\n",
      "[LibSVM][CV]  svc__C=0.1, svc__gamma=0.0001, svc__kernel=rbf, score=0.6179775280898876, total=   0.1s\n",
      "[CV] svc__C=0.1, svc__gamma=0.0001, svc__kernel=rbf ..................\n",
      "[LibSVM][CV]  svc__C=0.1, svc__gamma=0.0001, svc__kernel=rbf, score=0.6179775280898876, total=   0.0s\n",
      "[CV] svc__C=0.1, svc__gamma=0.0001, svc__kernel=rbf ..................\n"
     ]
    },
    {
     "name": "stderr",
     "output_type": "stream",
     "text": [
      "[Parallel(n_jobs=4)]: Done 232 tasks      | elapsed:    4.1s\n"
     ]
    },
    {
     "name": "stdout",
     "output_type": "stream",
     "text": [
      "[LibSVM][CV]  svc__C=0.1, svc__gamma=0.001, svc__kernel=rbf, score=0.6179775280898876, total=   0.0s\n",
      "[CV] svc__C=0.1, svc__gamma=0.001, svc__kernel=rbf ...................\n",
      "[LibSVM][CV]  svc__C=0.1, svc__gamma=0.0001, svc__kernel=rbf, score=0.6179775280898876, total=   0.0s\n",
      "[LibSVM][CV]  svc__C=0.1, svc__gamma=0.0001, svc__kernel=rbf, score=0.6136363636363636, total=   0.0s\n",
      "[CV] svc__C=0.1, svc__gamma=0.001, svc__kernel=rbf ...................\n",
      "[CV] svc__C=0.1, svc__gamma=0.0001, svc__kernel=rbf ..................\n",
      "[LibSVM][CV]  svc__C=0.1, svc__gamma=0.0001, svc__kernel=rbf, score=0.6179775280898876, total=   0.1s\n",
      "[CV] svc__C=0.1, svc__gamma=0.001, svc__kernel=rbf ...................\n",
      "[LibSVM][CV]  svc__C=0.1, svc__gamma=0.001, svc__kernel=rbf, score=0.6179775280898876, total=   0.0s\n",
      "[CV] svc__C=0.1, svc__gamma=0.001, svc__kernel=rbf ...................\n",
      "[LibSVM][CV]  svc__C=0.1, svc__gamma=0.0001, svc__kernel=rbf, score=0.6179775280898876, total=   0.0s\n",
      "[CV] svc__C=0.1, svc__gamma=0.01, svc__kernel=rbf ....................\n",
      "[LibSVM][CV]  svc__C=0.1, svc__gamma=0.001, svc__kernel=rbf, score=0.6111111111111112, total=   0.1s\n",
      "[CV] svc__C=0.1, svc__gamma=0.001, svc__kernel=rbf ...................\n",
      "[LibSVM][CV]  svc__C=0.1, svc__gamma=0.01, svc__kernel=rbf, score=0.7555555555555555, total=   0.0s\n",
      "[CV] svc__C=0.1, svc__gamma=0.01, svc__kernel=rbf ....................\n",
      "[LibSVM][CV]  svc__C=0.1, svc__gamma=0.001, svc__kernel=rbf, score=0.6179775280898876, total=   0.0s\n",
      "[CV] svc__C=0.1, svc__gamma=0.001, svc__kernel=rbf ...................\n",
      "[LibSVM][CV]  svc__C=0.1, svc__gamma=0.001, svc__kernel=rbf, score=0.6179775280898876, total=   0.0s\n",
      "[CV] svc__C=0.1, svc__gamma=0.001, svc__kernel=rbf ...................\n",
      "[LibSVM][CV]  svc__C=0.1, svc__gamma=0.001, svc__kernel=rbf, score=0.6111111111111112, total=   0.0s\n",
      "[CV] svc__C=0.1, svc__gamma=0.01, svc__kernel=rbf ....................\n",
      "[LibSVM][CV]  svc__C=0.1, svc__gamma=0.01, svc__kernel=rbf, score=0.7222222222222222, total=   0.0s\n",
      "[CV] svc__C=0.1, svc__gamma=0.01, svc__kernel=rbf ....................\n",
      "[LibSVM][CV]  svc__C=0.1, svc__gamma=0.001, svc__kernel=rbf, score=0.6179775280898876, total=   0.0s\n",
      "[CV] svc__C=0.1, svc__gamma=0.001, svc__kernel=rbf ...................\n",
      "[LibSVM][CV]  svc__C=0.1, svc__gamma=0.001, svc__kernel=rbf, score=0.6179775280898876, total=   0.0s\n",
      "[CV] svc__C=0.1, svc__gamma=0.01, svc__kernel=rbf ....................\n",
      "[LibSVM][CV]  svc__C=0.1, svc__gamma=0.01, svc__kernel=rbf, score=0.8089887640449438, total=   0.1s\n",
      "[CV] svc__C=0.1, svc__gamma=0.01, svc__kernel=rbf ....................\n",
      "[LibSVM][CV]  svc__C=0.1, svc__gamma=0.01, svc__kernel=rbf, score=0.7415730337078652, total=   0.0s\n",
      "[CV] svc__C=0.1, svc__gamma=0.01, svc__kernel=rbf ....................\n",
      "[LibSVM][CV]  svc__C=0.1, svc__gamma=0.001, svc__kernel=rbf, score=0.6179775280898876, total=   0.0s\n",
      "[LibSVM][CV]  svc__C=0.1, svc__gamma=0.01, svc__kernel=rbf, score=0.8426966292134831, total=   0.0s\n",
      "[CV] svc__C=0.1, svc__gamma=0.01, svc__kernel=rbf ....................\n",
      "[CV] svc__C=0.1, svc__gamma=0.001, svc__kernel=rbf ...................\n",
      "[LibSVM][CV]  svc__C=0.1, svc__gamma=0.01, svc__kernel=rbf, score=0.8089887640449438, total=   0.0s\n",
      "[CV] svc__C=0.1, svc__gamma=0.01, svc__kernel=rbf ....................\n",
      "[LibSVM][CV]  svc__C=0.1, svc__gamma=0.01, svc__kernel=rbf, score=0.8539325842696629, total=   0.0s\n",
      "[CV] svc__C=0.1, svc__gamma=0.1, svc__kernel=rbf .....................\n",
      "[LibSVM][CV]  svc__C=0.1, svc__gamma=0.001, svc__kernel=rbf, score=0.6136363636363636, total=   0.0s\n",
      "[CV] svc__C=0.1, svc__gamma=0.1, svc__kernel=rbf .....................\n",
      "[LibSVM][CV]  svc__C=0.1, svc__gamma=0.01, svc__kernel=rbf, score=0.8068181818181818, total=   0.0s\n",
      "[CV] svc__C=0.1, svc__gamma=0.1, svc__kernel=rbf .....................\n",
      "[LibSVM][CV]  svc__C=0.1, svc__gamma=0.01, svc__kernel=rbf, score=0.7752808988764045, total=   0.0s\n",
      "[CV] svc__C=0.1, svc__gamma=0.01, svc__kernel=rbf ....................\n",
      "[LibSVM][CV]  svc__C=0.1, svc__gamma=0.1, svc__kernel=rbf, score=0.7752808988764045, total=   0.0s\n",
      "[CV] svc__C=0.1, svc__gamma=0.1, svc__kernel=rbf .....................\n",
      "[LibSVM][CV]  svc__C=0.1, svc__gamma=0.1, svc__kernel=rbf, score=0.8202247191011236, total=   0.0s\n",
      "[CV] svc__C=0.1, svc__gamma=0.1, svc__kernel=rbf .....................\n",
      "[LibSVM][CV]  svc__C=0.1, svc__gamma=0.1, svc__kernel=rbf, score=0.8222222222222222, total=   0.0s\n",
      "[CV] svc__C=0.1, svc__gamma=0.1, svc__kernel=rbf .....................\n",
      "[LibSVM][CV]  svc__C=0.1, svc__gamma=0.01, svc__kernel=rbf, score=0.7528089887640449, total=   0.0s\n",
      "[CV] svc__C=0.1, svc__gamma=1, svc__kernel=rbf .......................\n",
      "[LibSVM][CV]  svc__C=0.1, svc__gamma=0.1, svc__kernel=rbf, score=0.8651685393258427, total=   0.0s\n",
      "[CV] svc__C=0.1, svc__gamma=0.1, svc__kernel=rbf .....................\n",
      "[LibSVM][CV]  svc__C=0.1, svc__gamma=0.1, svc__kernel=rbf, score=0.7865168539325843, total=   0.0s\n",
      "[CV] svc__C=0.1, svc__gamma=0.1, svc__kernel=rbf .....................\n",
      "[LibSVM][CV]  svc__C=0.1, svc__gamma=0.1, svc__kernel=rbf, score=0.8444444444444444, total=   0.0s\n",
      "[CV] svc__C=0.1, svc__gamma=1, svc__kernel=rbf .......................\n",
      "[LibSVM][CV]  svc__C=0.1, svc__gamma=1, svc__kernel=rbf, score=0.7888888888888889, total=   0.0s\n",
      "[CV] svc__C=0.1, svc__gamma=1, svc__kernel=rbf .......................\n",
      "[LibSVM][CV]  svc__C=0.1, svc__gamma=0.1, svc__kernel=rbf, score=0.8539325842696629, total=   0.0s\n",
      "[CV] svc__C=0.1, svc__gamma=0.1, svc__kernel=rbf .....................\n",
      "[LibSVM][CV]  svc__C=0.1, svc__gamma=0.1, svc__kernel=rbf, score=0.8314606741573034, total=   0.0s\n",
      "[CV] svc__C=0.1, svc__gamma=0.1, svc__kernel=rbf .....................\n",
      "[LibSVM][CV]  svc__C=0.1, svc__gamma=1, svc__kernel=rbf, score=0.8089887640449438, total=   0.0s\n",
      "[CV] svc__C=0.1, svc__gamma=1, svc__kernel=rbf .......................\n",
      "[LibSVM][CV]  svc__C=0.1, svc__gamma=1, svc__kernel=rbf, score=0.8111111111111111, total=   0.0s\n",
      "[CV] svc__C=0.1, svc__gamma=1, svc__kernel=rbf .......................\n",
      "[LibSVM][CV]  svc__C=0.1, svc__gamma=0.1, svc__kernel=rbf, score=0.8089887640449438, total=   0.0s\n",
      "[CV] svc__C=0.1, svc__gamma=1, svc__kernel=rbf .......................\n",
      "[LibSVM][CV]  svc__C=0.1, svc__gamma=0.1, svc__kernel=rbf, score=0.8522727272727273, total=   0.0s\n",
      "[CV] svc__C=0.1, svc__gamma=10, svc__kernel=rbf ......................\n",
      "[LibSVM][CV]  svc__C=0.1, svc__gamma=1, svc__kernel=rbf, score=0.7528089887640449, total=   0.0s\n",
      "[CV] svc__C=0.1, svc__gamma=1, svc__kernel=rbf .......................\n",
      "[LibSVM][CV]  svc__C=0.1, svc__gamma=1, svc__kernel=rbf, score=0.7078651685393258, total=   0.0s\n",
      "[LibSVM][CV]  svc__C=0.1, svc__gamma=1, svc__kernel=rbf, score=0.7528089887640449, total=   0.1s\n",
      "[CV] svc__C=0.1, svc__gamma=1, svc__kernel=rbf .......................\n",
      "[LibSVM][CV]  svc__C=0.1, svc__gamma=10, svc__kernel=rbf, score=0.6292134831460674, total=   0.0s\n",
      "[CV] svc__C=0.1, svc__gamma=10, svc__kernel=rbf ......................\n",
      "[CV] svc__C=0.1, svc__gamma=1, svc__kernel=rbf .......................\n",
      "[LibSVM][CV]  svc__C=0.1, svc__gamma=1, svc__kernel=rbf, score=0.7640449438202247, total=   0.0s\n",
      "[CV] svc__C=0.1, svc__gamma=1, svc__kernel=rbf .......................\n",
      "[LibSVM][CV]  svc__C=0.1, svc__gamma=1, svc__kernel=rbf, score=0.8314606741573034, total=   0.0s\n",
      "[CV] svc__C=0.1, svc__gamma=10, svc__kernel=rbf ......................\n",
      "[LibSVM][CV]  svc__C=0.1, svc__gamma=1, svc__kernel=rbf, score=0.7159090909090909, total=   0.0s\n",
      "[LibSVM][CV]  svc__C=0.1, svc__gamma=10, svc__kernel=rbf, score=0.6179775280898876, total=   0.0s\n",
      "[CV] svc__C=0.1, svc__gamma=10, svc__kernel=rbf ......................\n",
      "[CV] svc__C=0.1, svc__gamma=10, svc__kernel=rbf ......................\n",
      "[LibSVM][CV]  svc__C=0.1, svc__gamma=1, svc__kernel=rbf, score=0.7078651685393258, total=   0.0s\n",
      "[CV] svc__C=1, svc__gamma=0.0001, svc__kernel=rbf ....................\n",
      "[LibSVM][CV]  svc__C=0.1, svc__gamma=10, svc__kernel=rbf, score=0.6292134831460674, total=   0.1s\n",
      "[CV] svc__C=0.1, svc__gamma=10, svc__kernel=rbf ......................\n",
      "[LibSVM][CV]  svc__C=0.1, svc__gamma=10, svc__kernel=rbf, score=0.6111111111111112, total=   0.0s\n",
      "[LibSVM][CV]  svc__C=0.1, svc__gamma=10, svc__kernel=rbf, score=0.6179775280898876, total=   0.0s\n"
     ]
    },
    {
     "name": "stdout",
     "output_type": "stream",
     "text": [
      "[CV] svc__C=0.1, svc__gamma=10, svc__kernel=rbf ......................\n",
      "[CV] svc__C=0.1, svc__gamma=10, svc__kernel=rbf ......................\n",
      "[LibSVM][CV]  svc__C=1, svc__gamma=0.0001, svc__kernel=rbf, score=0.6111111111111112, total=   0.0s\n",
      "[CV] svc__C=1, svc__gamma=0.0001, svc__kernel=rbf ....................\n",
      "[LibSVM][CV]  svc__C=0.1, svc__gamma=10, svc__kernel=rbf, score=0.6292134831460674, total=   0.0s\n",
      "[CV] svc__C=0.1, svc__gamma=10, svc__kernel=rbf ......................\n",
      "[LibSVM][CV]  svc__C=0.1, svc__gamma=10, svc__kernel=rbf, score=0.6333333333333333, total=   0.0s\n",
      "[CV] svc__C=1, svc__gamma=0.0001, svc__kernel=rbf ....................\n",
      "[LibSVM][CV]  svc__C=0.1, svc__gamma=10, svc__kernel=rbf, score=0.6067415730337079, total=   0.0s\n",
      "[CV] svc__C=1, svc__gamma=0.0001, svc__kernel=rbf ....................\n",
      "[LibSVM][CV]  svc__C=1, svc__gamma=0.0001, svc__kernel=rbf, score=0.6111111111111112, total=   0.0s\n",
      "[CV] svc__C=1, svc__gamma=0.0001, svc__kernel=rbf ....................\n",
      "[LibSVM][CV]  svc__C=1, svc__gamma=0.0001, svc__kernel=rbf, score=0.6179775280898876, total=   0.0s\n"
     ]
    },
    {
     "name": "stderr",
     "output_type": "stream",
     "text": [
      "[Parallel(n_jobs=4)]: Done 284 tasks      | elapsed:    5.1s\n"
     ]
    },
    {
     "name": "stdout",
     "output_type": "stream",
     "text": [
      "[LibSVM][CV]  svc__C=0.1, svc__gamma=10, svc__kernel=rbf, score=0.6179775280898876, total=   0.0s\n",
      "[CV] svc__C=0.1, svc__gamma=10, svc__kernel=rbf ......................\n",
      "[CV] svc__C=1, svc__gamma=0.0001, svc__kernel=rbf ....................\n",
      "[LibSVM][CV]  svc__C=1, svc__gamma=0.0001, svc__kernel=rbf, score=0.6179775280898876, total=   0.0s\n",
      "[CV] svc__C=1, svc__gamma=0.0001, svc__kernel=rbf ....................\n",
      "[LibSVM][CV]  svc__C=1, svc__gamma=0.0001, svc__kernel=rbf, score=0.6179775280898876, total=   0.0s\n",
      "[CV] svc__C=1, svc__gamma=0.0001, svc__kernel=rbf ....................\n",
      "[LibSVM][CV]  svc__C=0.1, svc__gamma=10, svc__kernel=rbf, score=0.6136363636363636, total=   0.0s\n",
      "[CV] svc__C=1, svc__gamma=0.001, svc__kernel=rbf .....................\n",
      "[LibSVM][CV]  svc__C=1, svc__gamma=0.0001, svc__kernel=rbf, score=0.6179775280898876, total=   0.0s\n",
      "[CV] svc__C=1, svc__gamma=0.0001, svc__kernel=rbf ....................\n",
      "[LibSVM][CV]  svc__C=1, svc__gamma=0.0001, svc__kernel=rbf, score=0.6136363636363636, total=   0.0s\n",
      "[CV] svc__C=1, svc__gamma=0.001, svc__kernel=rbf .....................\n",
      "[LibSVM][CV]  svc__C=1, svc__gamma=0.0001, svc__kernel=rbf, score=0.6179775280898876, total=   0.0s\n",
      "[CV] svc__C=1, svc__gamma=0.001, svc__kernel=rbf .....................\n",
      "[LibSVM][CV]  svc__C=1, svc__gamma=0.0001, svc__kernel=rbf, score=0.6179775280898876, total=   0.0s\n",
      "[LibSVM][CV]  svc__C=1, svc__gamma=0.001, svc__kernel=rbf, score=0.8222222222222222, total=   0.0s\n",
      "[LibSVM][CV]  svc__C=1, svc__gamma=0.001, svc__kernel=rbf, score=0.7865168539325843, total=   0.0s\n",
      "[CV] svc__C=1, svc__gamma=0.0001, svc__kernel=rbf ....................\n",
      "[CV] svc__C=1, svc__gamma=0.001, svc__kernel=rbf .....................\n",
      "[CV] svc__C=1, svc__gamma=0.001, svc__kernel=rbf .....................\n",
      "[LibSVM][CV]  svc__C=1, svc__gamma=0.001, svc__kernel=rbf, score=0.7415730337078652, total=   0.0s\n",
      "[CV] svc__C=1, svc__gamma=0.001, svc__kernel=rbf .....................\n",
      "[LibSVM][CV]  svc__C=1, svc__gamma=0.0001, svc__kernel=rbf, score=0.6179775280898876, total=   0.0s\n",
      "[CV] svc__C=1, svc__gamma=0.01, svc__kernel=rbf ......................\n",
      "[LibSVM][CV]  svc__C=1, svc__gamma=0.001, svc__kernel=rbf, score=0.7666666666666667, total=   0.0s\n",
      "[CV] svc__C=1, svc__gamma=0.01, svc__kernel=rbf ......................\n",
      "[LibSVM][CV]  svc__C=1, svc__gamma=0.001, svc__kernel=rbf, score=0.8426966292134831, total=   0.0s\n",
      "[CV] svc__C=1, svc__gamma=0.001, svc__kernel=rbf .....................\n",
      "[LibSVM][CV]  svc__C=1, svc__gamma=0.001, svc__kernel=rbf, score=0.7528089887640449, total=   0.0s\n",
      "[CV] svc__C=1, svc__gamma=0.001, svc__kernel=rbf .....................\n",
      "[LibSVM][CV]  svc__C=1, svc__gamma=0.01, svc__kernel=rbf, score=0.797752808988764, total=   0.0s\n",
      "[CV] svc__C=1, svc__gamma=0.01, svc__kernel=rbf ......................\n",
      "[LibSVM][CV]  svc__C=1, svc__gamma=0.001, svc__kernel=rbf, score=0.797752808988764, total=   0.0s\n",
      "[LibSVM][CV]  svc__C=1, svc__gamma=0.01, svc__kernel=rbf, score=0.8222222222222222, total=   0.0s\n",
      "[CV] svc__C=1, svc__gamma=0.001, svc__kernel=rbf .....................\n",
      "[CV] svc__C=1, svc__gamma=0.01, svc__kernel=rbf ......................\n",
      "[LibSVM][CV]  svc__C=1, svc__gamma=0.001, svc__kernel=rbf, score=0.8539325842696629, total=   0.0s\n",
      "[CV] svc__C=1, svc__gamma=0.001, svc__kernel=rbf .....................\n",
      "[LibSVM][CV]  svc__C=1, svc__gamma=0.01, svc__kernel=rbf, score=0.7752808988764045, total=   0.0s\n",
      "[CV] svc__C=1, svc__gamma=0.01, svc__kernel=rbf ......................\n",
      "[LibSVM][CV]  svc__C=1, svc__gamma=0.01, svc__kernel=rbf, score=0.7888888888888889, total=   0.0s\n",
      "[CV] svc__C=1, svc__gamma=0.01, svc__kernel=rbf ......................\n",
      "[LibSVM][CV]  svc__C=1, svc__gamma=0.001, svc__kernel=rbf, score=0.7640449438202247, total=   0.0s\n",
      "[CV] svc__C=1, svc__gamma=0.01, svc__kernel=rbf ......................\n",
      "[LibSVM][CV]  svc__C=1, svc__gamma=0.001, svc__kernel=rbf, score=0.7727272727272727, total=   0.0s\n",
      "[CV] svc__C=1, svc__gamma=0.1, svc__kernel=rbf .......................\n",
      "[LibSVM][CV]  svc__C=1, svc__gamma=0.01, svc__kernel=rbf, score=0.7752808988764045, total=   0.0s\n",
      "[LibSVM][CV]  svc__C=1, svc__gamma=0.01, svc__kernel=rbf, score=0.7640449438202247, total=   0.1s\n",
      "[CV] svc__C=1, svc__gamma=0.01, svc__kernel=rbf ......................\n",
      "[CV] svc__C=1, svc__gamma=0.01, svc__kernel=rbf ......................\n",
      "[LibSVM][CV]  svc__C=1, svc__gamma=0.01, svc__kernel=rbf, score=0.8314606741573034, total=   0.0s\n",
      "[CV] svc__C=1, svc__gamma=0.01, svc__kernel=rbf ......................\n",
      "[LibSVM][CV]  svc__C=1, svc__gamma=0.1, svc__kernel=rbf, score=0.7752808988764045, total=   0.0s\n",
      "[CV] svc__C=1, svc__gamma=0.1, svc__kernel=rbf .......................\n",
      "[LibSVM][CV]  svc__C=1, svc__gamma=0.01, svc__kernel=rbf, score=0.7640449438202247, total=   0.0s\n",
      "[LibSVM][CV]  svc__C=1, svc__gamma=0.01, svc__kernel=rbf, score=0.7840909090909091, total=   0.0s\n",
      "[CV] svc__C=1, svc__gamma=0.1, svc__kernel=rbf .......................\n",
      "[LibSVM][CV]  svc__C=1, svc__gamma=0.01, svc__kernel=rbf, score=0.8426966292134831, total=   0.0s\n",
      "[CV] svc__C=1, svc__gamma=0.1, svc__kernel=rbf .......................\n",
      "[LibSVM][CV]  svc__C=1, svc__gamma=0.1, svc__kernel=rbf, score=0.8539325842696629, total=   0.0s\n",
      "[CV] svc__C=1, svc__gamma=1, svc__kernel=rbf .........................\n",
      "[CV] svc__C=1, svc__gamma=0.1, svc__kernel=rbf .......................\n",
      "[LibSVM][CV]  svc__C=1, svc__gamma=0.1, svc__kernel=rbf, score=0.8314606741573034, total=   0.0s\n",
      "[LibSVM][CV]  svc__C=1, svc__gamma=0.1, svc__kernel=rbf, score=0.8222222222222222, total=   0.0s\n",
      "[CV] svc__C=1, svc__gamma=0.1, svc__kernel=rbf .......................\n",
      "[CV] svc__C=1, svc__gamma=0.1, svc__kernel=rbf .......................\n",
      "[LibSVM][CV]  svc__C=1, svc__gamma=0.1, svc__kernel=rbf, score=0.8426966292134831, total=   0.0s\n",
      "[CV] svc__C=1, svc__gamma=0.1, svc__kernel=rbf .......................\n",
      "[LibSVM][CV]  svc__C=1, svc__gamma=1, svc__kernel=rbf, score=0.7888888888888889, total=   0.0s\n",
      "[CV] svc__C=1, svc__gamma=1, svc__kernel=rbf .........................\n",
      "[LibSVM][CV]  svc__C=1, svc__gamma=0.1, svc__kernel=rbf, score=0.7752808988764045, total=   0.0s\n",
      "[CV] svc__C=1, svc__gamma=0.1, svc__kernel=rbf .......................\n",
      "[LibSVM][CV]  svc__C=1, svc__gamma=0.1, svc__kernel=rbf, score=0.8444444444444444, total=   0.0s\n",
      "[CV] svc__C=1, svc__gamma=1, svc__kernel=rbf .........................\n",
      "[LibSVM][CV]  svc__C=1, svc__gamma=0.1, svc__kernel=rbf, score=0.797752808988764, total=   0.0s\n",
      "[LibSVM][CV]  svc__C=1, svc__gamma=1, svc__kernel=rbf, score=0.7888888888888889, total=   0.0s\n",
      "[CV] svc__C=1, svc__gamma=1, svc__kernel=rbf .........................\n",
      "[CV] svc__C=1, svc__gamma=1, svc__kernel=rbf .........................\n",
      "[LibSVM][CV]  svc__C=1, svc__gamma=0.1, svc__kernel=rbf, score=0.8539325842696629, total=   0.0s\n",
      "[CV] svc__C=1, svc__gamma=0.1, svc__kernel=rbf .......................\n",
      "[LibSVM][CV]  svc__C=1, svc__gamma=1, svc__kernel=rbf, score=0.8539325842696629, total=   0.0s\n",
      "[CV] svc__C=1, svc__gamma=1, svc__kernel=rbf .........................\n",
      "[LibSVM][CV]  svc__C=1, svc__gamma=1, svc__kernel=rbf, score=0.8089887640449438, total=   0.0s\n",
      "[CV] svc__C=1, svc__gamma=1, svc__kernel=rbf .........................\n",
      "[LibSVM][CV]  svc__C=1, svc__gamma=0.1, svc__kernel=rbf, score=0.8636363636363636, total=   0.0s\n",
      "[CV] svc__C=1, svc__gamma=10, svc__kernel=rbf ........................\n",
      "[LibSVM][CV]  svc__C=1, svc__gamma=1, svc__kernel=rbf, score=0.7640449438202247, total=   0.0s\n",
      "[CV] svc__C=1, svc__gamma=1, svc__kernel=rbf .........................\n",
      "[LibSVM][CV]  svc__C=1, svc__gamma=1, svc__kernel=rbf, score=0.8202247191011236, total=   0.0s\n",
      "[CV] svc__C=1, svc__gamma=1, svc__kernel=rbf .........................\n",
      "[LibSVM][CV]  svc__C=1, svc__gamma=1, svc__kernel=rbf, score=0.8181818181818182, total=   0.0s\n",
      "[CV] svc__C=1, svc__gamma=10, svc__kernel=rbf ........................\n",
      "[LibSVM][CV]  svc__C=1, svc__gamma=10, svc__kernel=rbf, score=0.6853932584269663, total=   0.0s\n",
      "[CV] svc__C=1, svc__gamma=10, svc__kernel=rbf ........................\n",
      "[LibSVM][CV]  svc__C=1, svc__gamma=1, svc__kernel=rbf, score=0.8426966292134831, total=   0.0s\n",
      "[CV] svc__C=1, svc__gamma=10, svc__kernel=rbf ........................\n",
      "[LibSVM][CV]  svc__C=1, svc__gamma=1, svc__kernel=rbf, score=0.8426966292134831, total=   0.0s\n"
     ]
    },
    {
     "name": "stdout",
     "output_type": "stream",
     "text": [
      "[CV] svc__C=1, svc__gamma=1, svc__kernel=rbf .........................\n"
     ]
    },
    {
     "name": "stderr",
     "output_type": "stream",
     "text": [
      "[Parallel(n_jobs=4)]: Done 336 tasks      | elapsed:    5.9s\n"
     ]
    },
    {
     "name": "stdout",
     "output_type": "stream",
     "text": [
      "[LibSVM][CV]  svc__C=1, svc__gamma=10, svc__kernel=rbf, score=0.6777777777777778, total=   0.1s\n",
      "[CV] svc__C=1, svc__gamma=10, svc__kernel=rbf ........................\n",
      "[LibSVM][CV]  svc__C=1, svc__gamma=10, svc__kernel=rbf, score=0.7752808988764045, total=   0.0s\n",
      "[LibSVM][CV]  svc__C=1, svc__gamma=10, svc__kernel=rbf, score=0.7528089887640449, total=   0.1s\n",
      "[CV] svc__C=1, svc__gamma=10, svc__kernel=rbf ........................\n",
      "[CV] svc__C=1, svc__gamma=10, svc__kernel=rbf ........................\n",
      "[LibSVM][CV]  svc__C=1, svc__gamma=1, svc__kernel=rbf, score=0.7640449438202247, total=   0.0s\n",
      "[CV] svc__C=10, svc__gamma=0.0001, svc__kernel=rbf ...................\n",
      "[LibSVM][CV]  svc__C=1, svc__gamma=10, svc__kernel=rbf, score=0.7, total=   0.0s\n",
      "[CV] svc__C=10, svc__gamma=0.0001, svc__kernel=rbf ...................\n",
      "[LibSVM][CV]  svc__C=1, svc__gamma=10, svc__kernel=rbf, score=0.7865168539325843, total=   0.0s\n",
      "[CV] svc__C=1, svc__gamma=10, svc__kernel=rbf ........................\n",
      "[LibSVM][CV]  svc__C=1, svc__gamma=10, svc__kernel=rbf, score=0.7078651685393258, total=   0.0s\n",
      "[CV] svc__C=1, svc__gamma=10, svc__kernel=rbf ........................\n",
      "[LibSVM][CV]  svc__C=10, svc__gamma=0.0001, svc__kernel=rbf, score=0.8333333333333334, total=   0.0s\n",
      "[CV] svc__C=10, svc__gamma=0.0001, svc__kernel=rbf ...................\n",
      "[LibSVM][CV]  svc__C=10, svc__gamma=0.0001, svc__kernel=rbf, score=0.797752808988764, total=   0.0s\n",
      "[CV] svc__C=10, svc__gamma=0.0001, svc__kernel=rbf ...................\n",
      "[LibSVM][CV]  svc__C=1, svc__gamma=10, svc__kernel=rbf, score=0.797752808988764, total=   0.0s\n",
      "[CV] svc__C=10, svc__gamma=0.0001, svc__kernel=rbf ...................\n",
      "[LibSVM][CV]  svc__C=10, svc__gamma=0.0001, svc__kernel=rbf, score=0.7777777777777778, total=   0.0s\n",
      "[CV] svc__C=10, svc__gamma=0.0001, svc__kernel=rbf ...................\n",
      "[LibSVM][CV]  svc__C=1, svc__gamma=10, svc__kernel=rbf, score=0.797752808988764, total=   0.0s\n",
      "[CV] svc__C=1, svc__gamma=10, svc__kernel=rbf ........................\n",
      "[LibSVM][CV]  svc__C=10, svc__gamma=0.0001, svc__kernel=rbf, score=0.7752808988764045, total=   0.0s\n",
      "[CV] svc__C=10, svc__gamma=0.0001, svc__kernel=rbf ...................\n",
      "[LibSVM][CV]  svc__C=10, svc__gamma=0.0001, svc__kernel=rbf, score=0.8539325842696629, total=   0.0s\n",
      "[CV] svc__C=10, svc__gamma=0.0001, svc__kernel=rbf ...................\n",
      "[LibSVM][CV]  svc__C=10, svc__gamma=0.0001, svc__kernel=rbf, score=0.7865168539325843, total=   0.0s\n",
      "[CV] svc__C=10, svc__gamma=0.0001, svc__kernel=rbf ...................\n",
      "[LibSVM][CV]  svc__C=1, svc__gamma=10, svc__kernel=rbf, score=0.7954545454545454, total=   0.0s\n",
      "[CV] svc__C=10, svc__gamma=0.001, svc__kernel=rbf ....................\n",
      "[LibSVM][CV]  svc__C=10, svc__gamma=0.0001, svc__kernel=rbf, score=0.7415730337078652, total=   0.0s\n",
      "[CV] svc__C=10, svc__gamma=0.0001, svc__kernel=rbf ...................\n",
      "[LibSVM][CV]  svc__C=10, svc__gamma=0.001, svc__kernel=rbf, score=0.7865168539325843, total=   0.0s\n",
      "[CV] svc__C=10, svc__gamma=0.001, svc__kernel=rbf ....................\n",
      "[LibSVM][CV]  svc__C=10, svc__gamma=0.0001, svc__kernel=rbf, score=0.7727272727272727, total=   0.0s\n",
      "[CV] svc__C=10, svc__gamma=0.001, svc__kernel=rbf ....................\n",
      "[LibSVM][CV]  svc__C=10, svc__gamma=0.0001, svc__kernel=rbf, score=0.8426966292134831, total=   0.0s\n",
      "[CV] svc__C=10, svc__gamma=0.001, svc__kernel=rbf ....................\n",
      "[LibSVM][CV]  svc__C=10, svc__gamma=0.0001, svc__kernel=rbf, score=0.7528089887640449, total=   0.0s\n",
      "[CV] svc__C=10, svc__gamma=0.01, svc__kernel=rbf .....................\n",
      "[LibSVM][CV]  svc__C=10, svc__gamma=0.001, svc__kernel=rbf, score=0.8111111111111111, total=   0.0s\n",
      "[CV] svc__C=10, svc__gamma=0.001, svc__kernel=rbf ....................\n",
      "[LibSVM][CV]  svc__C=10, svc__gamma=0.001, svc__kernel=rbf, score=0.7640449438202247, total=   0.0s\n",
      "[LibSVM][CV]  svc__C=10, svc__gamma=0.001, svc__kernel=rbf, score=0.8426966292134831, total=   0.0s\n",
      "[CV] svc__C=10, svc__gamma=0.001, svc__kernel=rbf ....................\n",
      "[CV] svc__C=10, svc__gamma=0.001, svc__kernel=rbf ....................\n",
      "[LibSVM][CV]  svc__C=10, svc__gamma=0.01, svc__kernel=rbf, score=0.8222222222222222, total=   0.0s\n",
      "[CV] svc__C=10, svc__gamma=0.01, svc__kernel=rbf .....................\n",
      "[LibSVM][CV]  svc__C=10, svc__gamma=0.001, svc__kernel=rbf, score=0.7888888888888889, total=   0.0s\n",
      "[CV] svc__C=10, svc__gamma=0.01, svc__kernel=rbf .....................\n",
      "[LibSVM][CV]  svc__C=10, svc__gamma=0.001, svc__kernel=rbf, score=0.797752808988764, total=   0.0s\n",
      "[CV] svc__C=10, svc__gamma=0.001, svc__kernel=rbf ....................\n",
      "[LibSVM][CV]  svc__C=10, svc__gamma=0.001, svc__kernel=rbf, score=0.7415730337078652, total=   0.0s\n",
      "[CV] svc__C=10, svc__gamma=0.001, svc__kernel=rbf ....................\n",
      "[LibSVM][CV]  svc__C=10, svc__gamma=0.01, svc__kernel=rbf, score=0.8555555555555555, total=   0.0s\n",
      "[CV] svc__C=10, svc__gamma=0.01, svc__kernel=rbf .....................\n",
      "[LibSVM][CV]  svc__C=10, svc__gamma=0.01, svc__kernel=rbf, score=0.8202247191011236, total=   0.0s\n",
      "[CV] svc__C=10, svc__gamma=0.01, svc__kernel=rbf .....................\n",
      "[LibSVM][CV]  svc__C=10, svc__gamma=0.001, svc__kernel=rbf, score=0.7752808988764045, total=   0.0s\n",
      "[CV] svc__C=10, svc__gamma=0.01, svc__kernel=rbf .....................\n",
      "[LibSVM][CV]  svc__C=10, svc__gamma=0.001, svc__kernel=rbf, score=0.8089887640449438, total=   0.0s\n",
      "[CV] svc__C=10, svc__gamma=0.001, svc__kernel=rbf ....................\n",
      "[LibSVM][CV]  svc__C=10, svc__gamma=0.01, svc__kernel=rbf, score=0.7752808988764045, total=   0.1s\n",
      "[CV] svc__C=10, svc__gamma=0.01, svc__kernel=rbf .....................\n",
      "[LibSVM][CV]  svc__C=10, svc__gamma=0.01, svc__kernel=rbf, score=0.797752808988764, total=   0.0s\n",
      "[CV] svc__C=10, svc__gamma=0.01, svc__kernel=rbf .....................\n",
      "[LibSVM][CV]  svc__C=10, svc__gamma=0.01, svc__kernel=rbf, score=0.8651685393258427, total=   0.0s\n",
      "[CV] svc__C=10, svc__gamma=0.01, svc__kernel=rbf .....................\n",
      "[LibSVM][CV]  svc__C=10, svc__gamma=0.001, svc__kernel=rbf, score=0.7613636363636364, total=   0.0s\n",
      "[CV] svc__C=10, svc__gamma=0.1, svc__kernel=rbf ......................\n",
      "[LibSVM][CV]  svc__C=10, svc__gamma=0.01, svc__kernel=rbf, score=0.8089887640449438, total=   0.0s\n",
      "[CV] svc__C=10, svc__gamma=0.01, svc__kernel=rbf .....................\n",
      "[LibSVM][CV]  svc__C=10, svc__gamma=0.01, svc__kernel=rbf, score=0.8651685393258427, total=   0.1s\n",
      "[CV] svc__C=10, svc__gamma=0.1, svc__kernel=rbf ......................\n",
      "[LibSVM][CV]  svc__C=10, svc__gamma=0.01, svc__kernel=rbf, score=0.8522727272727273, total=   0.0s\n",
      "[CV] svc__C=10, svc__gamma=0.1, svc__kernel=rbf ......................\n",
      "[LibSVM][CV]  svc__C=10, svc__gamma=0.1, svc__kernel=rbf, score=0.7865168539325843, total=   0.0s\n",
      "[CV] svc__C=10, svc__gamma=0.1, svc__kernel=rbf ......................\n",
      "[LibSVM][CV]  svc__C=10, svc__gamma=0.01, svc__kernel=rbf, score=0.797752808988764, total=   0.0s\n",
      "[CV] svc__C=10, svc__gamma=1, svc__kernel=rbf ........................\n",
      "[LibSVM][CV]  svc__C=10, svc__gamma=0.1, svc__kernel=rbf, score=0.8202247191011236, total=   0.1s\n",
      "[CV] svc__C=10, svc__gamma=0.1, svc__kernel=rbf ......................\n",
      "[LibSVM][CV]  svc__C=10, svc__gamma=0.1, svc__kernel=rbf, score=0.8111111111111111, total=   0.1s\n",
      "[CV] svc__C=10, svc__gamma=0.1, svc__kernel=rbf ......................\n",
      "[LibSVM][CV]  svc__C=10, svc__gamma=0.1, svc__kernel=rbf, score=0.8651685393258427, total=   0.1s\n",
      "[CV] svc__C=10, svc__gamma=0.1, svc__kernel=rbf ......................\n",
      "[LibSVM][CV]  svc__C=10, svc__gamma=0.1, svc__kernel=rbf, score=0.8111111111111111, total=   0.0s\n",
      "[CV] svc__C=10, svc__gamma=1, svc__kernel=rbf ........................\n",
      "[LibSVM][CV]  svc__C=10, svc__gamma=0.1, svc__kernel=rbf, score=0.7415730337078652, total=   0.1s\n",
      "[LibSVM][CV]  svc__C=10, svc__gamma=1, svc__kernel=rbf, score=0.7555555555555555, total=   0.1s\n",
      "[CV] svc__C=10, svc__gamma=1, svc__kernel=rbf ........................\n",
      "[CV] svc__C=10, svc__gamma=0.1, svc__kernel=rbf ......................\n",
      "[LibSVM][CV]  svc__C=10, svc__gamma=0.1, svc__kernel=rbf, score=0.8426966292134831, total=   0.0s\n",
      "[CV] svc__C=10, svc__gamma=0.1, svc__kernel=rbf ......................\n",
      "[LibSVM][CV]  svc__C=10, svc__gamma=0.1, svc__kernel=rbf, score=0.8426966292134831, total=   0.0s\n"
     ]
    },
    {
     "name": "stdout",
     "output_type": "stream",
     "text": [
      "[CV] svc__C=10, svc__gamma=0.1, svc__kernel=rbf ......................\n",
      "[LibSVM][CV]  svc__C=10, svc__gamma=1, svc__kernel=rbf, score=0.8111111111111111, total=   0.1s\n",
      "[CV] svc__C=10, svc__gamma=1, svc__kernel=rbf ........................\n",
      "[LibSVM][CV]  svc__C=10, svc__gamma=0.1, svc__kernel=rbf, score=0.8202247191011236, total=   0.0s\n",
      "[CV] svc__C=10, svc__gamma=1, svc__kernel=rbf ........................\n",
      "[LibSVM][CV]  svc__C=10, svc__gamma=1, svc__kernel=rbf, score=0.8314606741573034, total=   0.1s\n",
      "[CV] svc__C=10, svc__gamma=1, svc__kernel=rbf ........................\n",
      "[LibSVM][CV]  svc__C=10, svc__gamma=0.1, svc__kernel=rbf, score=0.8522727272727273, total=   0.0s\n",
      "[CV] svc__C=10, svc__gamma=10, svc__kernel=rbf .......................\n",
      "[LibSVM][CV]  svc__C=10, svc__gamma=1, svc__kernel=rbf, score=0.7415730337078652, total=   0.1s\n",
      "[CV] svc__C=10, svc__gamma=1, svc__kernel=rbf ........................\n",
      "[LibSVM][CV]  svc__C=10, svc__gamma=1, svc__kernel=rbf, score=0.8426966292134831, total=   0.1s\n",
      "[LibSVM][CV]  svc__C=10, svc__gamma=1, svc__kernel=rbf, score=0.797752808988764, total=   0.1s\n",
      "[CV] svc__C=10, svc__gamma=1, svc__kernel=rbf ........................\n",
      "[CV] svc__C=10, svc__gamma=1, svc__kernel=rbf ........................\n",
      "[LibSVM][CV]  svc__C=10, svc__gamma=1, svc__kernel=rbf, score=0.7865168539325843, total=   0.1s\n",
      "[CV] svc__C=10, svc__gamma=10, svc__kernel=rbf .......................\n",
      "[LibSVM][CV]  svc__C=10, svc__gamma=10, svc__kernel=rbf, score=0.7078651685393258, total=   0.1s\n",
      "[CV] svc__C=10, svc__gamma=10, svc__kernel=rbf .......................\n",
      "[LibSVM][CV]  svc__C=10, svc__gamma=1, svc__kernel=rbf, score=0.8651685393258427, total=   0.1s\n",
      "[CV] svc__C=10, svc__gamma=1, svc__kernel=rbf ........................\n",
      "[LibSVM][CV]  svc__C=10, svc__gamma=1, svc__kernel=rbf, score=0.8068181818181818, total=   0.1s\n",
      "[CV] svc__C=10, svc__gamma=10, svc__kernel=rbf .......................\n",
      "[LibSVM][CV]  svc__C=10, svc__gamma=10, svc__kernel=rbf, score=0.7752808988764045, total=   0.1s\n",
      "[CV] svc__C=10, svc__gamma=10, svc__kernel=rbf .......................\n",
      "[LibSVM][CV]  svc__C=10, svc__gamma=10, svc__kernel=rbf, score=0.7415730337078652, total=   0.1s\n",
      "[CV] svc__C=10, svc__gamma=10, svc__kernel=rbf .......................\n",
      "[LibSVM][CV]  svc__C=10, svc__gamma=10, svc__kernel=rbf, score=0.6333333333333333, total=   0.1s\n",
      "[CV] svc__C=10, svc__gamma=10, svc__kernel=rbf .......................\n",
      "[LibSVM][CV]  svc__C=10, svc__gamma=1, svc__kernel=rbf, score=0.7865168539325843, total=   0.1s\n",
      "[LibSVM][CV]  svc__C=10, svc__gamma=10, svc__kernel=rbf, score=0.7640449438202247, total=   0.1s\n",
      "[CV] svc__C=10, svc__gamma=10, svc__kernel=rbf .......................\n",
      "[LibSVM][CV]  svc__C=10, svc__gamma=10, svc__kernel=rbf, score=0.6777777777777778, total=   0.1s\n",
      "[LibSVM][CV]  svc__C=10, svc__gamma=10, svc__kernel=rbf, score=0.6853932584269663, total=   0.1s\n",
      "[CV] svc__C=10, svc__gamma=10, svc__kernel=rbf .......................\n",
      "[LibSVM][CV]  svc__C=10, svc__gamma=10, svc__kernel=rbf, score=0.7752808988764045, total=   0.0s\n",
      "[LibSVM][CV]  svc__C=10, svc__gamma=10, svc__kernel=rbf, score=0.7865168539325843, total=   0.0s\n",
      "[CV] svc__C=10, svc__gamma=10, svc__kernel=rbf .......................\n",
      "[LibSVM][CV]  svc__C=10, svc__gamma=10, svc__kernel=rbf, score=0.7727272727272727, total=   0.0s\n",
      "[LibSVM]"
     ]
    },
    {
     "name": "stderr",
     "output_type": "stream",
     "text": [
      "[Parallel(n_jobs=4)]: Done 420 out of 420 | elapsed:    7.4s finished\n"
     ]
    }
   ],
   "source": [
    "gs = gs.fit(X_train, y_train)"
   ]
  },
  {
   "cell_type": "code",
   "execution_count": 158,
   "metadata": {},
   "outputs": [
    {
     "name": "stdout",
     "output_type": "stream",
     "text": [
      "best parameter is: {'svc__C': 0.1, 'svc__gamma': 0.1, 'svc__kernel': 'rbf'}\n",
      "best score is: 0.8260381593714927\n"
     ]
    }
   ],
   "source": [
    "print('best parameter is: %s'%(gs.best_params_))\n",
    "print('best score is: %s'%(gs.best_score_))"
   ]
  },
  {
   "cell_type": "code",
   "execution_count": 149,
   "metadata": {},
   "outputs": [
    {
     "name": "stderr",
     "output_type": "stream",
     "text": [
      "/Users/yugi/.pyenv/versions/anaconda-4.0.0/envs/py36/lib/python3.6/site-packages/sklearn/model_selection/_search.py:761: DeprecationWarning: The grid_scores_ attribute was deprecated in version 0.18 in favor of the more elaborate cv_results_ attribute. The grid_scores_ attribute will not be available from 0.20\n",
      "  DeprecationWarning)\n",
      "/Users/yugi/.pyenv/versions/anaconda-4.0.0/envs/py36/lib/python3.6/site-packages/sklearn/model_selection/_search.py:761: DeprecationWarning: The grid_scores_ attribute was deprecated in version 0.18 in favor of the more elaborate cv_results_ attribute. The grid_scores_ attribute will not be available from 0.20\n",
      "  DeprecationWarning)\n"
     ]
    }
   ],
   "source": [
    "parameters = [mat[0] for mat in gs.grid_scores_]\n",
    "score = [mat[1] for mat in gs.grid_scores_]\n",
    "svc_lin_C = parameters[:len(params)]\n",
    "svc_lin_C = [c['svc__C'] for c in parameters[:len(params)]]\n",
    "svc_lin_score = score[:len(params)]\n",
    "df_lin = pd.DataFrame(np.c_[svc_lin_C, svc_lin_score],columns=['C', 'score'])\n",
    "svc_kernel_C = [c['svc__C'] for c in parameters[len(params):]]\n",
    "svc_kernel_gamma = [g['svc__gamma'] for g in parameters[len(params):]]\n",
    "svc_lin_score = score[len(params):]\n",
    "df_kernel = pd.DataFrame(np.c_[svc_kernel_C,svc_kernel_gamma, svc_lin_score],columns=['C', 'gamma','score'])"
   ]
  },
  {
   "cell_type": "code",
   "execution_count": 150,
   "metadata": {},
   "outputs": [
    {
     "data": {
      "text/html": [
       "<div>\n",
       "<style scoped>\n",
       "    .dataframe tbody tr th:only-of-type {\n",
       "        vertical-align: middle;\n",
       "    }\n",
       "\n",
       "    .dataframe tbody tr th {\n",
       "        vertical-align: top;\n",
       "    }\n",
       "\n",
       "    .dataframe thead th {\n",
       "        text-align: right;\n",
       "    }\n",
       "</style>\n",
       "<table border=\"1\" class=\"dataframe\">\n",
       "  <thead>\n",
       "    <tr style=\"text-align: right;\">\n",
       "      <th></th>\n",
       "      <th>C</th>\n",
       "      <th>gamma</th>\n",
       "      <th>score</th>\n",
       "    </tr>\n",
       "  </thead>\n",
       "  <tbody>\n",
       "    <tr>\n",
       "      <th>0</th>\n",
       "      <td>0.0001</td>\n",
       "      <td>0.0001</td>\n",
       "      <td>0.616162</td>\n",
       "    </tr>\n",
       "    <tr>\n",
       "      <th>1</th>\n",
       "      <td>0.0001</td>\n",
       "      <td>0.0010</td>\n",
       "      <td>0.616162</td>\n",
       "    </tr>\n",
       "    <tr>\n",
       "      <th>2</th>\n",
       "      <td>0.0001</td>\n",
       "      <td>0.0100</td>\n",
       "      <td>0.616162</td>\n",
       "    </tr>\n",
       "    <tr>\n",
       "      <th>3</th>\n",
       "      <td>0.0001</td>\n",
       "      <td>0.1000</td>\n",
       "      <td>0.616162</td>\n",
       "    </tr>\n",
       "    <tr>\n",
       "      <th>4</th>\n",
       "      <td>0.0001</td>\n",
       "      <td>1.0000</td>\n",
       "      <td>0.616162</td>\n",
       "    </tr>\n",
       "  </tbody>\n",
       "</table>\n",
       "</div>"
      ],
      "text/plain": [
       "        C   gamma     score\n",
       "0  0.0001  0.0001  0.616162\n",
       "1  0.0001  0.0010  0.616162\n",
       "2  0.0001  0.0100  0.616162\n",
       "3  0.0001  0.1000  0.616162\n",
       "4  0.0001  1.0000  0.616162"
      ]
     },
     "execution_count": 150,
     "metadata": {},
     "output_type": "execute_result"
    }
   ],
   "source": [
    "kernel_max = df_kernel.loc[df_kernel['score'].idxmax(),:]\n",
    "lin_max = df_lin.loc[df_lin['score'].idxmax(),:]\n",
    "df_kernel.head()"
   ]
  },
  {
   "cell_type": "code",
   "execution_count": 151,
   "metadata": {},
   "outputs": [
    {
     "data": {
      "text/plain": [
       "Text(0.5,1,'SVC kernel parameter validation curve')"
      ]
     },
     "execution_count": 151,
     "metadata": {},
     "output_type": "execute_result"
    },
    {
     "data": {
      "image/png": "[encoded data removed]",
      "text/plain": [
       "<Figure size 1000x500 with 1 Axes>"
      ]
     },
     "metadata": {},
     "output_type": "display_data"
    }
   ],
   "source": [
    "fig = plt.figure(figsize=(10,5), dpi=100)\n",
    "g = sns.pointplot(x='C', y='score', data=df_kernel, hue='gamma', palette='Set2')\n",
    "g.set_title('SVC kernel parameter validation curve')"
   ]
  },
  {
   "cell_type": "code",
   "execution_count": 152,
   "metadata": {},
   "outputs": [
    {
     "data": {
      "text/plain": [
       "Text(0.5,1,'SVC linear parameter validation curve')"
      ]
     },
     "execution_count": 152,
     "metadata": {},
     "output_type": "execute_result"
    },
    {
     "data": {
      "image/png": "[encoded data removed]",
      "text/plain": [
       "<Figure size 1000x500 with 1 Axes>"
      ]
     },
     "metadata": {},
     "output_type": "display_data"
    }
   ],
   "source": [
    "fig = plt.figure(figsize=(10,5), dpi=100)\n",
    "g = sns.pointplot(x='C', y='score', data=df_lin, color='yellowgreen')\n",
    "g.set_title('SVC linear parameter validation curve')"
   ]
  },
  {
   "cell_type": "code",
   "execution_count": 159,
   "metadata": {},
   "outputs": [],
   "source": [
    "### モデル検証\n",
    "from sklearn.model_selection import cross_val_score\n",
    "pipe_lr = make_pipeline(StandardScaler(),\n",
    "                       LogisticRegression(random_state=1))\n",
    "params_lr = [10**(-4+i) for i in range(6)]\n",
    "param_grid_lr = [{'logisticregression__C': params_lr}]\n",
    "\n",
    "pipe_svc = make_pipeline(StandardScaler(), SVC(random_state=1,verbose=10))\n",
    "params_svc = [10**(-4+i) for i in range(6)]\n",
    "param_grid_svc = [{'svc__C': params_svc, 'svc__kernel': ['linear']},\n",
    "             {'svc__C': params_svc, 'svc__gamma': params_svc, 'svc__kernel': ['rbf']}]\n",
    "\n",
    "from sklearn.tree import DecisionTreeClassifier\n",
    "pipe_tree = make_pipeline(DecisionTreeClassifier(random_state=0))\n",
    "params_tree = [{'max_depth': [1,2,3,4,5,6,7,None]}]"
   ]
  },
  {
   "cell_type": "code",
   "execution_count": 160,
   "metadata": {},
   "outputs": [
    {
     "name": "stdout",
     "output_type": "stream",
     "text": [
      " Linear Regression\n",
      "average: 0.792396, variation: 0.017445\n",
      "best is {'logisticregression__C': 1}\n"
     ]
    }
   ],
   "source": [
    "### LinearRegression\n",
    "gs = GridSearchCV(estimator=pipe_lr,param_grid=param_grid_lr,\n",
    "                 scoring='accuracy', cv=2, n_jobs=-1)\n",
    "gs = gs.fit(X_train, y_train)\n",
    "scores = cross_val_score(gs, X_train, y_train,scoring='accuracy', cv=5)\n",
    "print(' Linear Regression')\n",
    "print('average: %f, variation: %f'% (np.mean(scores), np.std(scores)))\n",
    "print('best is %s'% gs.best_params_)"
   ]
  },
  {
   "cell_type": "code",
   "execution_count": 174,
   "metadata": {},
   "outputs": [
    {
     "name": "stdout",
     "output_type": "stream",
     "text": [
      "[LibSVM][LibSVM][LibSVM][LibSVM][LibSVM][LibSVM] Support Vector Machine\n",
      "average: 0.820058, variation: 0.031090\n",
      "best is {'svc__C': 10, 'svc__gamma': 0.01, 'svc__kernel': 'rbf'}\n"
     ]
    }
   ],
   "source": [
    "### SVM\n",
    "gs = GridSearchCV(estimator=pipe_svc,param_grid=param_grid_svc,\n",
    "                 scoring='accuracy', cv=2, n_jobs=-1)\n",
    "gs = gs.fit(X_train, y_train)\n",
    "scores = cross_val_score(gs, X_train, y_train,scoring='accuracy', cv=5)\n",
    "print(' Support Vector Machine')\n",
    "print('average: %f, variation: %f'% (np.mean(scores), np.std(scores)))\n",
    "print('best is %s'% gs.best_params_)"
   ]
  },
  {
   "cell_type": "code",
   "execution_count": 162,
   "metadata": {},
   "outputs": [
    {
     "name": "stdout",
     "output_type": "stream",
     "text": [
      " Decision Tree\n",
      "average: 0.799138, variation: 0.024064\n",
      "best is {'max_depth': 1}\n"
     ]
    }
   ],
   "source": [
    "### Decision Tree\n",
    "from sklearn.tree import DecisionTreeClassifier\n",
    "gs = GridSearchCV(estimator=DecisionTreeClassifier(random_state=0),\n",
    "                  param_grid=params_tree,\n",
    "                 scoring='accuracy', cv=2, n_jobs=-1)\n",
    "gs.fit(X_train,y_train)\n",
    "scores = cross_val_score(gs, X_train, y_train,scoring='accuracy', cv=5)\n",
    "print(' Decision Tree')\n",
    "print('average: %f, variation: %f'% (np.mean(scores), np.std(scores)))\n",
    "print('best is %s'% gs.best_params_)"
   ]
  },
  {
   "cell_type": "code",
   "execution_count": 165,
   "metadata": {},
   "outputs": [],
   "source": [
    "# train とtestにsplit\n",
    "from sklearn.model_selection import train_test_split\n",
    "X_train, X_test, y_train, y_test = train_test_split(X, y, test_size=0.2, random_state=1, stratify=y)"
   ]
  },
  {
   "cell_type": "code",
   "execution_count": 166,
   "metadata": {},
   "outputs": [
    {
     "name": "stdout",
     "output_type": "stream",
     "text": [
      "0.7741935483870968\n",
      "0.6956521739130435\n",
      "0.732824427480916\n"
     ]
    }
   ],
   "source": [
    "### Confusion Matrix\n",
    "pipe_lr = make_pipeline(StandardScaler(),\n",
    "                       LogisticRegression(random_state=1, C=10))\n",
    "pipe_lr.fit(X_train, y_train)\n",
    "y_pred = pipe_lr.predict(X_test)\n",
    "from sklearn.metrics import confusion_matrix\n",
    "from sklearn.metrics import precision_score\n",
    "from sklearn.metrics import recall_score, f1_score\n",
    "result = confusion_matrix(y_true=y_test, y_pred=y_pred)\n",
    "PRE = precision_score(y_true=y_test, y_pred=y_pred)\n",
    "REC = recall_score(y_true=y_test, y_pred=y_pred)\n",
    "F1 = f1_score(y_true=y_test, y_pred=y_pred)\n",
    "print(PRE)\n",
    "print(REC)\n",
    "print(F1)"
   ]
  },
  {
   "cell_type": "code",
   "execution_count": 167,
   "metadata": {},
   "outputs": [
    {
     "data": {
      "text/plain": [
       "Text(10.2222,0.5,'true label')"
      ]
     },
     "execution_count": 167,
     "metadata": {},
     "output_type": "execute_result"
    },
    {
     "data": {
      "image/png": "[encoded data removed]",
      "text/plain": [
       "<Figure size 300x300 with 2 Axes>"
      ]
     },
     "metadata": {},
     "output_type": "display_data"
    }
   ],
   "source": [
    "fig = plt.figure(figsize=(3,3), dpi=100)\n",
    "g = sns.heatmap(result, annot=True, cmap='Blues')\n",
    "g.invert_xaxis()\n",
    "g.invert_yaxis()\n",
    "g.set_xlabel('predicted label')\n",
    "g.set_ylabel('true label')"
   ]
  },
  {
   "cell_type": "code",
   "execution_count": 168,
   "metadata": {},
   "outputs": [
    {
     "name": "stdout",
     "output_type": "stream",
     "text": [
      "best score(f1) is 0.846075\n",
      "best parameter is {'logisticregression__C': 10}\n"
     ]
    }
   ],
   "source": [
    "### グリッドサーチの検証にF1値を使用\n",
    "from sklearn.metrics import make_scorer, f1_score\n",
    "my_score = make_scorer(f1_score, pos_label=0)\n",
    "gs = GridSearchCV(estimator=pipe_lr,param_grid=param_grid_lr,\n",
    "                 scoring=my_score, cv=10, n_jobs=-1)\n",
    "gs = gs.fit(X_train, y_train)\n",
    "print('best score(f1) is %f'%gs.best_score_)\n",
    "print('best parameter is %s'% gs.best_params_)"
   ]
  },
  {
   "cell_type": "code",
   "execution_count": 169,
   "metadata": {},
   "outputs": [
    {
     "data": {
      "text/plain": [
       "<matplotlib.legend.Legend at 0x1a1ed8fba8>"
      ]
     },
     "execution_count": 169,
     "metadata": {},
     "output_type": "execute_result"
    },
    {
     "data": {
      "image/png": "[encoded data removed]",
      "text/plain": [
       "<Figure size 1000x500 with 1 Axes>"
      ]
     },
     "metadata": {},
     "output_type": "display_data"
    }
   ],
   "source": [
    "#ROC 曲線\n",
    "from sklearn.metrics import roc_curve,auc\n",
    "from scipy import interp\n",
    "cv = list(StratifiedKFold(n_splits=3, random_state=1).split(X_train, y_train))\n",
    "mean_tpr = 0.0\n",
    "mean_fpr = np.linspace(0,1,100)\n",
    "all_tpr = []\n",
    "fig = plt.figure(figsize=(10,5), dpi=100)\n",
    "for i,(train, test) in enumerate(cv):\n",
    "    fit = pipe_lr.fit(X_train[train], y_train[train])\n",
    "    probas = fit.predict_proba(X_train[test])\n",
    "    fpr, tpr, thresholds = roc_curve(y_train[test], probas[:,1], pos_label=1)\n",
    "    mean_tpr += interp(mean_fpr, fpr, tpr)\n",
    "    mean_tpr[0] = 0.0\n",
    "    roc_auc = auc(fpr, tpr)\n",
    "    plt.plot(fpr, tpr, label='ROC fold %d (area = %0.2f)'%(i+1, roc_auc))\n",
    "\n",
    "#当て推量\n",
    "plt.plot([0,1], [0,1], linestyle='--', color='grey', label = 'random guessing')\n",
    "\n",
    "#FRP, TRP, ROC AUC それぞれの平均を計算してプロット\n",
    "mean_tpr /= len(cv)\n",
    "mean_tpr[-1] = 1.0\n",
    "mean_auc = auc(mean_fpr, mean_tpr)\n",
    "plt.plot(mean_fpr, mean_tpr, 'k--', color='white')\n",
    "\n",
    "#完全に予測が正解したとき\n",
    "plt.plot([0,0,1],[0,1,1],linestyle=':', color='blue', label = 'performance')\n",
    "\n",
    "plt.xlim([-0.05, 1.05])\n",
    "plt.ylim([-0.05, 1.05])\n",
    "plt.xlabel('false positive rate')\n",
    "plt.ylabel('ture positive rate')\n",
    "plt.legend(loc='lower right', frameon=True)"
   ]
  },
  {
   "cell_type": "code",
   "execution_count": 170,
   "metadata": {},
   "outputs": [],
   "source": [
    "### PCAによる次元圧縮での評価　<敢えてパイプラインは使わない>\n",
    "std = StandardScaler()\n",
    "X_train_std = std.fit_transform(X_train)\n",
    "X_test_std = std.fit_transform(X_test)\n",
    "pca = PCA(n_components=2)\n",
    "X_train_pca = pca.fit_transform(X_train_std)\n",
    "X_test_pca = pca.transform(X_test_std)"
   ]
  },
  {
   "cell_type": "code",
   "execution_count": 171,
   "metadata": {},
   "outputs": [
    {
     "data": {
      "text/plain": [
       "<matplotlib.legend.Legend at 0x1a1fa796a0>"
      ]
     },
     "execution_count": 171,
     "metadata": {},
     "output_type": "execute_result"
    },
    {
     "data": {
      "image/png": "[encoded data removed]",
      "text/plain": [
       "<Figure size 1000x500 with 1 Axes>"
      ]
     },
     "metadata": {},
     "output_type": "display_data"
    }
   ],
   "source": [
    "cov_mat = np.cov(X_train_std.T)\n",
    "\n",
    "eigen_val, eigen_vec = np.linalg.eig(cov_mat)\n",
    "eigen_val\n",
    "\n",
    "### 全分散と説明分散→各固有値の大きさの比率\n",
    "\n",
    "total = np.sum(eigen_val)\n",
    "var_exp = [i / total for i in sorted(eigen_val, reverse=True)]\n",
    "cum_var_exp = np.cumsum(var_exp)\n",
    "\n",
    "fig = plt.figure(figsize=(10,5),dpi=100)\n",
    "plt.bar(range(1,cum_var_exp.shape[0]+1), var_exp, alpha=0.5, color='red', align = 'center', label='individual explained variance')\n",
    "plt.step(range(1,cum_var_exp.shape[0]+1), cum_var_exp, alpha=0.5, color='yellow', where='mid', label = 'cumulative explained variance')\n",
    "plt.ylabel('Explained variance')\n",
    "plt.xlabel('Principal component index')\n",
    "plt.legend(loc='best', frameon=True, edgecolor=\"white\")"
   ]
  },
  {
   "cell_type": "code",
   "execution_count": 172,
   "metadata": {},
   "outputs": [
    {
     "data": {
      "text/plain": [
       "<seaborn.axisgrid.FacetGrid at 0x1a1137df98>"
      ]
     },
     "execution_count": 172,
     "metadata": {},
     "output_type": "execute_result"
    },
    {
     "data": {
      "image/png": "[encoded data removed]",
      "text/plain": [
       "<Figure size 905.625x576 with 1 Axes>"
      ]
     },
     "metadata": {},
     "output_type": "display_data"
    }
   ],
   "source": [
    "df = pd.DataFrame(X_train_pca, columns=['PC1', 'PC2'])\n",
    "df['Class'] = pd.DataFrame(np.array(y_train),index=None)\n",
    "\n",
    "sns.lmplot(x='PC1', y='PC2', data=df, hue='Class', palette='pastel', fit_reg=False, \n",
    "           size=8, aspect=1.5)"
   ]
  },
  {
   "cell_type": "code",
   "execution_count": 173,
   "metadata": {},
   "outputs": [
    {
     "name": "stdout",
     "output_type": "stream",
     "text": [
      " Linear Regression\n",
      "average: 0.756943, variation: 0.019603\n",
      "best is {'logisticregression__C': 10}\n"
     ]
    }
   ],
   "source": [
    "### モデル検証\n",
    "from sklearn.model_selection import cross_val_score\n",
    "pipe_lr = make_pipeline(StandardScaler(),PCA(n_components=4),\n",
    "                       LogisticRegression(random_state=1))\n",
    "params_lr = [10**(-4+i) for i in range(6)]\n",
    "param_grid_lr = [{'logisticregression__C': params_lr}]\n",
    "\n",
    "### LinearRegression\n",
    "gs = GridSearchCV(estimator=pipe_lr,param_grid=param_grid_lr,\n",
    "                 scoring='accuracy', cv=2, n_jobs=-1)\n",
    "gs = gs.fit(X_train, y_train)\n",
    "scores = cross_val_score(gs, X_train, y_train,scoring='accuracy', cv=5)\n",
    "print(' Linear Regression')\n",
    "print('average: %f, variation: %f'% (np.mean(scores), np.std(scores)))\n",
    "print('best is %s'% gs.best_params_)"
   ]
  },
  {
   "cell_type": "code",
   "execution_count": 176,
   "metadata": {},
   "outputs": [
    {
     "name": "stdout",
     "output_type": "stream",
     "text": [
      "[LibSVM][LibSVM][LibSVM][LibSVM][LibSVM][LibSVM] Support Vector Machine\n",
      "average: 0.820058, variation: 0.031090\n",
      "best is {'svc__C': 10, 'svc__gamma': 0.01, 'svc__kernel': 'rbf'}\n"
     ]
    }
   ],
   "source": [
    "### SVM\n",
    "\n",
    "pipe_svc = make_pipeline(StandardScaler(), SVC(random_state=1,verbose=10))\n",
    "params_svc = [10**(-4+i) for i in range(6)]\n",
    "param_grid_svc = [{'svc__C': params_svc, 'svc__kernel': ['linear']},\n",
    "             {'svc__C': params_svc, 'svc__gamma': params_svc, 'svc__kernel': ['rbf']}]\n",
    "gs = GridSearchCV(estimator=pipe_svc,param_grid=param_grid_svc,\n",
    "                 scoring='accuracy', cv=2, n_jobs=-1)\n",
    "gs = gs.fit(X_train, y_train)\n",
    "scores = cross_val_score(gs, X_train, y_train,scoring='accuracy', cv=5)\n",
    "print(' Support Vector Machine')\n",
    "print('average: %f, variation: %f'% (np.mean(scores), np.std(scores)))\n",
    "print('best is %s'% gs.best_params_)"
   ]
  },
  {
   "cell_type": "code",
   "execution_count": 207,
   "metadata": {},
   "outputs": [
    {
     "name": "stdout",
     "output_type": "stream",
     "text": [
      "[LibSVM]"
     ]
    }
   ],
   "source": [
    "pipe_svc = make_pipeline(StandardScaler(), SVC(random_state=1,verbose=10, C=10, gamma=0.01, kernel='rbf'))\n",
    "pipe_svc.fit(X_train, y_train)\n",
    "y_pred = pipe_svc.predict(X_test)"
   ]
  },
  {
   "cell_type": "code",
   "execution_count": 210,
   "metadata": {},
   "outputs": [],
   "source": [
    "y_pred_df = pd.Series(y_pred)\n",
    "y_pred_df.to_csv('result.csv')"
   ]
  },
  {
   "cell_type": "code",
   "execution_count": null,
   "metadata": {},
   "outputs": [],
   "source": []
  }
 ],
 "metadata": {
  "kernelspec": {
   "display_name": "Python 3",
   "language": "python",
   "name": "python3"
  },
  "language_info": {
   "codemirror_mode": {
    "name": "ipython",
    "version": 3
   },
   "file_extension": ".py",
   "mimetype": "text/x-python",
   "name": "python",
   "nbconvert_exporter": "python",
   "pygments_lexer": "ipython3",
   "version": "3.6.5"
  }
 },
 "nbformat": 4,
 "nbformat_minor": 2
}
